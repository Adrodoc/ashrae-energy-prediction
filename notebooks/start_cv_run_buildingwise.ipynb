{
 "cells": [
  {
   "cell_type": "code",
   "execution_count": null,
   "metadata": {},
   "outputs": [],
   "source": [
    "# question include new mode namley start_cv_run_building_id\n",
    "# or introduces new parameter that can be use in the config file\n",
    "# the latter is probably better\n",
    "# pseudo code:\n",
    "# start_cv_run_buidlingwise:\n",
    "# if mode = group_cv_building\n",
    "    # meter0 = train_df.meter == 0 returns logical vector\n",
    "    # train_df = train_df meter0 rows\n",
    "    # label = label aber nur meter 0 rows\n",
    "# group kfold\n",
    "# define the groups array by building_id\n",
    "# and run the cross-validation"
   ]
  },
  {
   "cell_type": "code",
   "execution_count": 3,
   "metadata": {},
   "outputs": [
    {
     "data": {
      "text/plain": [
       "5"
      ]
     },
     "execution_count": 3,
     "metadata": {},
     "output_type": "execute_result"
    }
   ],
   "source": [
    "from sklearn.model_selection import GroupKFold\n",
    "group_kfold = GroupKFold(n_splits = 5)\n",
    "group_kfold.get_n_splits()"
   ]
  },
  {
   "cell_type": "code",
   "execution_count": null,
   "metadata": {},
   "outputs": [],
   "source": [
    "def start_cv_run(train_df, label, params, splits, verbose_eval,\n",
    "                 num_boost_round, early_stopping_rounds, output_filepath,\n",
    "                 grouped_on_building):\n",
    "    \"\"\"\n",
    "    Starts a Cross Validation Run with the parameters provided.\n",
    "    Scores will be documented and models will be saved.\n",
    "    :param train_df: DataFrame which contains the training data.\n",
    "    :param label: A vector which contains the labels of the training data.\n",
    "    :param params: Dictionary with the model parameters\n",
    "    :param splits: Integer describing the number of folds / splitting fraction.\n",
    "    :param verbose_eval: The interval where training information is printed\n",
    "    to console.\n",
    "    :param num_boost_round: Maximum number of rounds / estimators for the training.\n",
    "    :param early_stopping_rounds: If no improvement of the validation score in\n",
    "    n rounds occur, the training will be stopped.\n",
    "    :param output_filepath: Directory that will contain the trained models.\n",
    "    \"\"\"\n",
    "    if grouped_on_building:\n",
    "        output_filepath = output_filepath + \"grouped_cv\"\n",
    "        train_df = train_df[train_df.meter == 0]\n",
    "        label = train_df.meter_reading\n",
    "        groups = train_df.building_id\n",
    "        gkf = GroupKFold(n_splits = splits)\n",
    "        indices = gkf.split(train_df, label, groups)\n",
    "    else:\n",
    "        output_filepath = output_filepath + \"_cv\"\n",
    "        kf = Kfold(nsplits = splits, shuffle = False, random = state = 1337)\n",
    "        indices = kf.split(train_df, label)\n",
    "    cv_results = []\n",
    "    with timer(\"Performing \" + str(splits) + \" fold cross-validation\"):\n",
    "        kf = KFold(n_splits=splits, shuffle=False, random_state=1337)\n",
    "        for i, (train_index, test_index) in enumerate(indices):\n",
    "            with timer(\"~~~~ Fold %d of %d ~~~~\" % (i + 1, splits)):\n",
    "                x_train, x_valid = train_df.iloc[train_index], train_df.iloc[test_index]\n",
    "                y_train, y_valid = label[train_index], label[test_index]\n",
    "\n",
    "                train_lgb_df = lgb.Dataset(data=x_train, label=y_train)\n",
    "                valid_lgb_df = lgb.Dataset(data=x_valid, label=y_valid)\n",
    "\n",
    "                valid_sets = [train_lgb_df, valid_lgb_df]\n",
    "                evals_result = dict()\n",
    "                lgbm_model = lgb.train(params=params,\n",
    "                                       train_set=train_lgb_df,\n",
    "                                       num_boost_round=num_boost_round,\n",
    "                                       valid_sets=valid_sets,\n",
    "                                       valid_names=[\"train_loss\", \"eval\"],\n",
    "                                       verbose_eval=verbose_eval,\n",
    "                                       evals_result=evals_result,\n",
    "                                       early_stopping_rounds=early_stopping_rounds)\n",
    "                save_model(output_filepath, lgbm_model)\n",
    "\n",
    "                cv_results.append(evals_result)\n",
    "        evaluate_cv_results(cv_results)\n"
   ]
  },
  {
   "cell_type": "code",
   "execution_count": 7,
   "metadata": {},
   "outputs": [],
   "source": [
    "import numpy as np\n",
    "from sklearn.model_selection import GroupKFold"
   ]
  },
  {
   "cell_type": "code",
   "execution_count": 8,
   "metadata": {},
   "outputs": [
    {
     "data": {
      "text/plain": [
       "2"
      ]
     },
     "execution_count": 8,
     "metadata": {},
     "output_type": "execute_result"
    }
   ],
   "source": [
    "X = np.array([[1, 2], [3, 4], [5, 6], [7, 8]])\n",
    "y = np.array([1, 2, 3, 4])\n",
    "groups = np.array([0, 0, 2, 2])\n",
    "group_kfold = GroupKFold(n_splits=2)\n",
    "group_kfold.get_n_splits(X, y, groups)"
   ]
  },
  {
   "cell_type": "code",
   "execution_count": 9,
   "metadata": {},
   "outputs": [
    {
     "name": "stdout",
     "output_type": "stream",
     "text": [
      "GroupKFold(n_splits=2)\n"
     ]
    }
   ],
   "source": [
    "print(group_kfold)"
   ]
  },
  {
   "cell_type": "code",
   "execution_count": 11,
   "metadata": {},
   "outputs": [
    {
     "name": "stdout",
     "output_type": "stream",
     "text": [
      "TRAIN: [0 1] TEST [2 3]\n",
      "TRAIN: [2 3] TEST [0 1]\n"
     ]
    }
   ],
   "source": [
    "for train_index, test_index in group_kfold.split(X, y, groups):\n",
    "    print(\"TRAIN:\", train_index, \"TEST\", test_index)\n",
    "    X_train, X_test = X[train_index], X[test_index]\n",
    "    y_train, y_test = y[train_index], y[test_index]"
   ]
  },
  {
   "cell_type": "code",
   "execution_count": 17,
   "metadata": {},
   "outputs": [
    {
     "name": "stdout",
     "output_type": "stream",
     "text": [
      "[0, (array([0, 1]), array([2, 3]))]\n",
      "[1, (array([2, 3]), array([0, 1]))]\n"
     ]
    }
   ],
   "source": [
    " for a, (b, c) in enumerate(group_kfold.split(X, y, groups)):\n",
    "        print([a, (b,c)])"
   ]
  },
  {
   "cell_type": "code",
   "execution_count": 18,
   "metadata": {},
   "outputs": [
    {
     "data": {
      "text/plain": [
       "<generator object _BaseKFold.split at 0x0000019A4925D548>"
      ]
     },
     "execution_count": 18,
     "metadata": {},
     "output_type": "execute_result"
    }
   ],
   "source": [
    "group_kfold.split(X, y, groups)"
   ]
  },
  {
   "cell_type": "code",
   "execution_count": 19,
   "metadata": {},
   "outputs": [
    {
     "name": "stdout",
     "output_type": "stream",
     "text": [
      "2\n"
     ]
    }
   ],
   "source": [
    "if True:\n",
    "    a = 2\n",
    "print(a)    "
   ]
  }
 ],
 "metadata": {
  "kernelspec": {
   "display_name": "Python 3",
   "language": "python",
   "name": "python3"
  },
  "language_info": {
   "codemirror_mode": {
    "name": "ipython",
    "version": 3
   },
   "file_extension": ".py",
   "mimetype": "text/x-python",
   "name": "python",
   "nbconvert_exporter": "python",
   "pygments_lexer": "ipython3",
   "version": "3.7.5"
  }
 },
 "nbformat": 4,
 "nbformat_minor": 2
}
