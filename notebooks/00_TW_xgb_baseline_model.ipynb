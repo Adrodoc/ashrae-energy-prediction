{
 "cells": [
  {
   "cell_type": "markdown",
   "metadata": {},
   "source": [
    "# First xgb Baseline Model w/o Preprocessing"
   ]
  },
  {
   "cell_type": "markdown",
   "metadata": {},
   "source": [
    "*Notes:*\n",
    "- rmsle error is not included in the xgboost 0.9 release. A nightly wheel with v1.0 can be installed to use it.\n",
    "- My machine operates with 16GB RAM and it's already getting maxed out. GC before starting to train is helpful\n",
    "- Issues while training occur. eval only shows NaN predictions after 3 iterations. Not to sure why. Could be the experimental xgb build, default parameters or just faulty/crappy data"
   ]
  },
  {
   "cell_type": "code",
   "execution_count": 1,
   "metadata": {},
   "outputs": [],
   "source": [
    "import pandas as pd\n",
    "import matplotlib.pyplot as plt\n",
    "import numpy as np\n",
    "import xgboost as xgb\n",
    "from sklearn.preprocessing import OneHotEncoder, LabelEncoder\n",
    "from sklearn.model_selection import train_test_split"
   ]
  },
  {
   "cell_type": "markdown",
   "metadata": {},
   "source": [
    "### Load data from csv"
   ]
  },
  {
   "cell_type": "code",
   "execution_count": 2,
   "metadata": {},
   "outputs": [],
   "source": [
    "building_df = pd.read_csv(\"../data/raw/building_metadata.csv\")\n",
    "weather_train = pd.read_csv(\"../data/raw/weather_train.csv\")\n",
    "train = pd.read_csv(\"../data/raw/train.csv\")"
   ]
  },
  {
   "cell_type": "markdown",
   "metadata": {},
   "source": [
    "### Join the single dataframes"
   ]
  },
  {
   "cell_type": "code",
   "execution_count": 3,
   "metadata": {},
   "outputs": [],
   "source": [
    "train = train.merge(building_df, left_on = \"building_id\", right_on = \"building_id\", how = \"left\")\n",
    "train = train.merge(weather_train, left_on = [\"site_id\", \"timestamp\"], right_on = [\"site_id\", \"timestamp\"])\n",
    "del weather_train"
   ]
  },
  {
   "cell_type": "markdown",
   "metadata": {},
   "source": [
    "### Introduce function for reducing in-memory size of data set"
   ]
  },
  {
   "cell_type": "code",
   "execution_count": 4,
   "metadata": {},
   "outputs": [],
   "source": [
    "def reduce_mem_usage(df, verbose=True):\n",
    "    numerics = ['int16', 'int32', 'int64', 'float16', 'float32', 'float64']\n",
    "    start_mem = df.memory_usage().sum() / 1024**2    \n",
    "    for col in df.columns:\n",
    "        col_type = df[col].dtypes\n",
    "        if col_type in numerics:\n",
    "            c_min = df[col].min()\n",
    "            c_max = df[col].max()\n",
    "            if str(col_type)[:3] == 'int':\n",
    "                if c_min > np.iinfo(np.int8).min and c_max < np.iinfo(np.int8).max:\n",
    "                    df[col] = df[col].astype(np.int8)\n",
    "                elif c_min > np.iinfo(np.int16).min and c_max < np.iinfo(np.int16).max:\n",
    "                    df[col] = df[col].astype(np.int16)\n",
    "                elif c_min > np.iinfo(np.int32).min and c_max < np.iinfo(np.int32).max:\n",
    "                    df[col] = df[col].astype(np.int32)\n",
    "                elif c_min > np.iinfo(np.int64).min and c_max < np.iinfo(np.int64).max:\n",
    "                    df[col] = df[col].astype(np.int64)  \n",
    "            else:\n",
    "                if c_min > np.finfo(np.float16).min and c_max < np.finfo(np.float16).max:\n",
    "                    df[col] = df[col].astype(np.float16)\n",
    "                elif c_min > np.finfo(np.float32).min and c_max < np.finfo(np.float32).max:\n",
    "                    df[col] = df[col].astype(np.float32)\n",
    "                else:\n",
    "                    df[col] = df[col].astype(np.float64)    \n",
    "    end_mem = df.memory_usage().sum() / 1024**2\n",
    "    if verbose: print('Mem. usage decreased to {:5.2f} Mb ({:.1f}% reduction)'.format(end_mem, 100 * (start_mem - end_mem) / start_mem))\n",
    "    return df"
   ]
  },
  {
   "cell_type": "code",
   "execution_count": 5,
   "metadata": {},
   "outputs": [
    {
     "name": "stdout",
     "output_type": "stream",
     "text": [
      "Mem. usage decreased to 1036.44 Mb (60.3% reduction)\n"
     ]
    }
   ],
   "source": [
    "train = reduce_mem_usage(train)"
   ]
  },
  {
   "cell_type": "markdown",
   "metadata": {},
   "source": [
    "#### Which columns are in the set?"
   ]
  },
  {
   "cell_type": "code",
   "execution_count": 6,
   "metadata": {},
   "outputs": [
    {
     "data": {
      "text/plain": [
       "Index(['building_id', 'meter', 'timestamp', 'meter_reading', 'site_id',\n",
       "       'primary_use', 'square_feet', 'year_built', 'floor_count',\n",
       "       'air_temperature', 'cloud_coverage', 'dew_temperature',\n",
       "       'precip_depth_1_hr', 'sea_level_pressure', 'wind_direction',\n",
       "       'wind_speed'],\n",
       "      dtype='object')"
      ]
     },
     "execution_count": 6,
     "metadata": {},
     "output_type": "execute_result"
    }
   ],
   "source": [
    "train.columns"
   ]
  },
  {
   "cell_type": "markdown",
   "metadata": {},
   "source": [
    "#### Isolate timestamp elements\n",
    "\n",
    "*Note: I didn't add year as single feature as it is not recurrent and not useful in future implementations*"
   ]
  },
  {
   "cell_type": "code",
   "execution_count": 7,
   "metadata": {},
   "outputs": [],
   "source": [
    "train[\"timestamp\"] = pd.to_datetime(train[\"timestamp\"])\n",
    "train[\"hour\"] = train[\"timestamp\"].dt.hour\n",
    "train[\"weekday\"] = train[\"timestamp\"].dt.weekday\n",
    "train[\"month\"] = train[\"timestamp\"].dt.month\n",
    "\n",
    "del train[\"timestamp\"]"
   ]
  },
  {
   "cell_type": "markdown",
   "metadata": {},
   "source": [
    "#### Encode categorical data\n",
    "\n",
    "*Note: nominal features should probably be one-hot-encoded. I got out of memory errors on the first try so maybe we are looking for better code/approach*"
   ]
  },
  {
   "cell_type": "code",
   "execution_count": 8,
   "metadata": {},
   "outputs": [],
   "source": [
    "nominal_cols = [\"building_id\", \"meter\", \"site_id\", \"primary_use\"]\n",
    "ordinal_cols = [\"hour\", \"weekday\", \"month\"]\n",
    "\n",
    "#one_hot = OneHotEncoder(categorical_features=nominal_cols)\n",
    "#train = one_hot.fit_transform(train)\n",
    "train[ordinal_cols + nominal_cols] = train[ordinal_cols + nominal_cols].apply(LabelEncoder().fit_transform)"
   ]
  },
  {
   "cell_type": "markdown",
   "metadata": {},
   "source": [
    "#### Substitute NaNs with 0"
   ]
  },
  {
   "cell_type": "code",
   "execution_count": 9,
   "metadata": {},
   "outputs": [
    {
     "data": {
      "text/plain": [
       "0"
      ]
     },
     "execution_count": 9,
     "metadata": {},
     "output_type": "execute_result"
    }
   ],
   "source": [
    "train = train.fillna(0)\n",
    "train.isnull().sum().sum()"
   ]
  },
  {
   "cell_type": "code",
   "execution_count": 10,
   "metadata": {},
   "outputs": [
    {
     "data": {
      "text/plain": [
       "<bound method NDFrame.head of           building_id  meter  meter_reading  site_id  primary_use  \\\n",
       "0                   0      0       0.000000        0            0   \n",
       "1                   1      0       0.000000        0            0   \n",
       "2                   2      0       0.000000        0            0   \n",
       "3                   3      0       0.000000        0            0   \n",
       "4                   4      0       0.000000        0            0   \n",
       "...               ...    ...            ...      ...          ...   \n",
       "20125600         1444      0       8.750000       15            1   \n",
       "20125601         1445      0       4.825000       15            0   \n",
       "20125602         1446      0       0.000000       15            1   \n",
       "20125603         1447      0     159.574997       15            4   \n",
       "20125604         1448      0       2.850000       15            6   \n",
       "\n",
       "          square_feet  year_built  floor_count  air_temperature  \\\n",
       "0                7432      2008.0          0.0        25.000000   \n",
       "1                2720      2004.0          0.0        25.000000   \n",
       "2                5376      1991.0          0.0        25.000000   \n",
       "3               23685      2002.0          0.0        25.000000   \n",
       "4              116607      1975.0          0.0        25.000000   \n",
       "...               ...         ...          ...              ...   \n",
       "20125600        19619      1914.0          0.0         1.700195   \n",
       "20125601         4298         0.0          0.0         1.700195   \n",
       "20125602        11265      1997.0          0.0         1.700195   \n",
       "20125603        29775      2001.0          0.0         1.700195   \n",
       "20125604        92271      2001.0          0.0         1.700195   \n",
       "\n",
       "          cloud_coverage  dew_temperature  precip_depth_1_hr  \\\n",
       "0                    6.0        20.000000                0.0   \n",
       "1                    6.0        20.000000                0.0   \n",
       "2                    6.0        20.000000                0.0   \n",
       "3                    6.0        20.000000                0.0   \n",
       "4                    6.0        20.000000                0.0   \n",
       "...                  ...              ...                ...   \n",
       "20125600             0.0        -5.601562               -1.0   \n",
       "20125601             0.0        -5.601562               -1.0   \n",
       "20125602             0.0        -5.601562               -1.0   \n",
       "20125603             0.0        -5.601562               -1.0   \n",
       "20125604             0.0        -5.601562               -1.0   \n",
       "\n",
       "          sea_level_pressure  wind_direction  wind_speed  hour  weekday  month  \n",
       "0                     1019.5             0.0    0.000000     0        4      0  \n",
       "1                     1019.5             0.0    0.000000     0        4      0  \n",
       "2                     1019.5             0.0    0.000000     0        4      0  \n",
       "3                     1019.5             0.0    0.000000     0        4      0  \n",
       "4                     1019.5             0.0    0.000000     0        4      0  \n",
       "...                      ...             ...         ...   ...      ...    ...  \n",
       "20125600              1008.5           180.0    8.796875    23        5     11  \n",
       "20125601              1008.5           180.0    8.796875    23        5     11  \n",
       "20125602              1008.5           180.0    8.796875    23        5     11  \n",
       "20125603              1008.5           180.0    8.796875    23        5     11  \n",
       "20125604              1008.5           180.0    8.796875    23        5     11  \n",
       "\n",
       "[20125605 rows x 18 columns]>"
      ]
     },
     "execution_count": 10,
     "metadata": {},
     "output_type": "execute_result"
    }
   ],
   "source": [
    "train.head"
   ]
  },
  {
   "cell_type": "markdown",
   "metadata": {},
   "source": [
    "### Build Model"
   ]
  },
  {
   "cell_type": "code",
   "execution_count": 11,
   "metadata": {},
   "outputs": [],
   "source": [
    "y_train = train[\"meter_reading\"]\n",
    "del train[\"meter_reading\"]"
   ]
  },
  {
   "cell_type": "code",
   "execution_count": 12,
   "metadata": {},
   "outputs": [],
   "source": [
    "X_train, X_test, y_train, y_test = train_test_split(train, y_train, test_size=0.2, random_state=420)\n",
    "\n",
    "train_dmatrix = xgb.DMatrix(data=X_train,label=y_train)\n",
    "test_dmatrix = xgb.DMatrix(data=X_test,label=y_test)\n",
    "\n",
    "del train, X_train, X_test, y_train, y_test"
   ]
  },
  {
   "cell_type": "code",
   "execution_count": 13,
   "metadata": {},
   "outputs": [],
   "source": [
    "params = {\n",
    "    \"objective\": \"reg:squaredlogerror\",\n",
    "    \"eval_metric\": \"rmsle\",\n",
    "    \"booster\": \"gbtree\",\n",
    "    \"verbosity\": \"1\",\n",
    "}\n",
    "num_boost_round = 100\n",
    "evals = [(test_dmatrix,'eval'), (train_dmatrix,'train')]"
   ]
  },
  {
   "cell_type": "code",
   "execution_count": 14,
   "metadata": {},
   "outputs": [
    {
     "name": "stdout",
     "output_type": "stream",
     "text": [
      "[20:55:45] WARNING: /workspace/src/gbm/gbtree.cc:130: Tree method is automatically selected to be 'approx' for faster speed. To use old behavior (exact greedy algorithm on single machine), set tree_method to 'exact'.\n",
      "[0]\teval-rmsle:4.12372\ttrain-rmsle:4.12258\n",
      "Multiple eval metrics have been passed: 'train-rmsle' will be used for early stopping.\n",
      "\n",
      "Will train until train-rmsle hasn't improved in 10 rounds.\n",
      "[1]\teval-rmsle:3.94638\ttrain-rmsle:3.94098\n",
      "[2]\teval-rmsle:3.76990\ttrain-rmsle:3.76602\n",
      "[3]\teval-rmsle:nan\ttrain-rmsle:nan\n",
      "[4]\teval-rmsle:nan\ttrain-rmsle:nan\n",
      "[5]\teval-rmsle:nan\ttrain-rmsle:nan\n",
      "[6]\teval-rmsle:nan\ttrain-rmsle:nan\n",
      "[7]\teval-rmsle:nan\ttrain-rmsle:nan\n",
      "[8]\teval-rmsle:nan\ttrain-rmsle:nan\n",
      "[9]\teval-rmsle:nan\ttrain-rmsle:nan\n",
      "[10]\teval-rmsle:nan\ttrain-rmsle:nan\n",
      "[11]\teval-rmsle:nan\ttrain-rmsle:nan\n",
      "[12]\teval-rmsle:nan\ttrain-rmsle:nan\n",
      "Stopping. Best iteration:\n",
      "[2]\teval-rmsle:3.76990\ttrain-rmsle:3.76602\n",
      "\n"
     ]
    }
   ],
   "source": [
    "xgb_model = xgb.train(params=params,\n",
    "                      dtrain=train_dmatrix,\n",
    "                      num_boost_round=num_boost_round,\n",
    "                      evals=evals,\n",
    "                      verbose_eval=True,\n",
    "                      early_stopping_rounds=10)"
   ]
  }
 ],
 "metadata": {
  "kernelspec": {
   "display_name": "Python 3",
   "language": "python",
   "name": "python3"
  },
  "language_info": {
   "codemirror_mode": {
    "name": "ipython",
    "version": 3
   },
   "file_extension": ".py",
   "mimetype": "text/x-python",
   "name": "python",
   "nbconvert_exporter": "python",
   "pygments_lexer": "ipython3",
   "version": "3.7.5"
  }
 },
 "nbformat": 4,
 "nbformat_minor": 2
}
