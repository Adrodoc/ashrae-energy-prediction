{
 "cells": [
  {
   "cell_type": "markdown",
   "metadata": {},
   "source": [
    "# First xgb Baseline Model w/o Preprocessing"
   ]
  },
  {
   "cell_type": "markdown",
   "metadata": {},
   "source": [
    "*Notes:*\n",
    "- rmsle error is not included in the xgboost 0.9 release. A nightly wheel with v1.0 can be installed to use it.\n",
    "- My machine operates with 16GB RAM and it's already getting maxed out. GC before starting to train is helpful\n",
    "- Issues while training occur. eval only shows NaN predictions after 3 iterations. Not to sure why. Could be the experimental xgb build, default parameters or just faulty/crappy data"
   ]
  },
  {
   "cell_type": "code",
   "execution_count": 14,
   "metadata": {},
   "outputs": [],
   "source": [
    "import pandas as pd\n",
    "import matplotlib.pyplot as plt\n",
    "import numpy as np\n",
    "import xgboost as xgb\n",
    "from sklearn.preprocessing import OneHotEncoder, LabelEncoder\n",
    "from sklearn.model_selection import train_test_split\n",
    "import gc"
   ]
  },
  {
   "cell_type": "markdown",
   "metadata": {},
   "source": [
    "### Load data from csv"
   ]
  },
  {
   "cell_type": "code",
   "execution_count": 2,
   "metadata": {},
   "outputs": [],
   "source": [
    "building_df = pd.read_csv(\"../data/raw/building_metadata.csv\")\n",
    "weather_train = pd.read_csv(\"../data/raw/weather_train.csv\")\n",
    "train = pd.read_csv(\"../data/raw/train.csv\")"
   ]
  },
  {
   "cell_type": "markdown",
   "metadata": {},
   "source": [
    "### Join the single dataframes"
   ]
  },
  {
   "cell_type": "code",
   "execution_count": 3,
   "metadata": {},
   "outputs": [],
   "source": [
    "train = train.merge(building_df, left_on = \"building_id\", right_on = \"building_id\", how = \"left\")\n",
    "train = train.merge(weather_train, left_on = [\"site_id\", \"timestamp\"], right_on = [\"site_id\", \"timestamp\"])\n",
    "del weather_train"
   ]
  },
  {
   "cell_type": "markdown",
   "metadata": {},
   "source": [
    "### Introduce function for reducing in-memory size of data set"
   ]
  },
  {
   "cell_type": "code",
   "execution_count": 8,
   "metadata": {},
   "outputs": [],
   "source": [
    "def reduce_mem_usage(df, verbose=True):\n",
    "    numerics = ['int16', 'int32', 'int64', 'float16', 'float32', 'float64']\n",
    "    start_mem = df.memory_usage().sum() / 1024**2    \n",
    "    for col in df.columns:\n",
    "        col_type = df[col].dtypes\n",
    "        if col_type in numerics:\n",
    "            c_min = df[col].min()\n",
    "            c_max = df[col].max()\n",
    "            if str(col_type)[:3] == 'int':\n",
    "                if c_min > np.iinfo(np.int8).min and c_max < np.iinfo(np.int8).max:\n",
    "                    df[col] = df[col].astype(np.int8)\n",
    "                elif c_min > np.iinfo(np.int16).min and c_max < np.iinfo(np.int16).max:\n",
    "                    df[col] = df[col].astype(np.int16)\n",
    "                elif c_min > np.iinfo(np.int32).min and c_max < np.iinfo(np.int32).max:\n",
    "                    df[col] = df[col].astype(np.int32)\n",
    "                elif c_min > np.iinfo(np.int64).min and c_max < np.iinfo(np.int64).max:\n",
    "                    df[col] = df[col].astype(np.int64)  \n",
    "            else:\n",
    "                if c_min > np.finfo(np.float16).min and c_max < np.finfo(np.float16).max:\n",
    "                    df[col] = df[col].astype(np.float16)\n",
    "                elif c_min > np.finfo(np.float32).min and c_max < np.finfo(np.float32).max:\n",
    "                    df[col] = df[col].astype(np.float32)\n",
    "                else:\n",
    "                    df[col] = df[col].astype(np.float64)    \n",
    "    end_mem = df.memory_usage().sum() / 1024**2\n",
    "    if verbose: print('Mem. usage decreased to {:5.2f} Mb ({:.1f}% reduction)'.format(end_mem, 100 * (start_mem - end_mem) / start_mem))\n",
    "    return df"
   ]
  },
  {
   "cell_type": "code",
   "execution_count": 5,
   "metadata": {},
   "outputs": [
    {
     "name": "stdout",
     "output_type": "stream",
     "text": [
      "Mem. usage decreased to 1036.44 Mb (60.3% reduction)\n"
     ]
    }
   ],
   "source": [
    "train = reduce_mem_usage(train)"
   ]
  },
  {
   "cell_type": "markdown",
   "metadata": {},
   "source": [
    "#### Which columns are in the set?"
   ]
  },
  {
   "cell_type": "code",
   "execution_count": 6,
   "metadata": {},
   "outputs": [
    {
     "data": {
      "text/plain": [
       "Index(['building_id', 'meter', 'timestamp', 'meter_reading', 'site_id',\n",
       "       'primary_use', 'square_feet', 'year_built', 'floor_count',\n",
       "       'air_temperature', 'cloud_coverage', 'dew_temperature',\n",
       "       'precip_depth_1_hr', 'sea_level_pressure', 'wind_direction',\n",
       "       'wind_speed'],\n",
       "      dtype='object')"
      ]
     },
     "execution_count": 6,
     "metadata": {},
     "output_type": "execute_result"
    }
   ],
   "source": [
    "train.columns"
   ]
  },
  {
   "cell_type": "markdown",
   "metadata": {},
   "source": [
    "#### Isolate timestamp elements\n",
    "\n",
    "*Note: I didn't add year as single feature as it is not recurrent and not useful in future implementations*"
   ]
  },
  {
   "cell_type": "code",
   "execution_count": 7,
   "metadata": {},
   "outputs": [],
   "source": [
    "train[\"timestamp\"] = pd.to_datetime(train[\"timestamp\"])\n",
    "train[\"hour\"] = train[\"timestamp\"].dt.hour\n",
    "train[\"weekday\"] = train[\"timestamp\"].dt.weekday\n",
    "train[\"month\"] = train[\"timestamp\"].dt.month\n",
    "\n",
    "del train[\"timestamp\"]"
   ]
  },
  {
   "cell_type": "markdown",
   "metadata": {},
   "source": [
    "#### Encode categorical data\n",
    "\n",
    "*Note: nominal features should probably be one-hot-encoded. I got out of memory errors on the first try so maybe we are looking for better code/approach*"
   ]
  },
  {
   "cell_type": "code",
   "execution_count": 8,
   "metadata": {},
   "outputs": [],
   "source": [
    "nominal_cols = [\"building_id\", \"meter\", \"site_id\", \"primary_use\"]\n",
    "ordinal_cols = [\"hour\", \"weekday\", \"month\"]\n",
    "\n",
    "#one_hot = OneHotEncoder(categorical_features=nominal_cols)\n",
    "#train = one_hot.fit_transform(train)\n",
    "train[ordinal_cols + nominal_cols] = train[ordinal_cols + nominal_cols].apply(LabelEncoder().fit_transform)"
   ]
  },
  {
   "cell_type": "markdown",
   "metadata": {},
   "source": [
    "#### Substitute NaNs with 0"
   ]
  },
  {
   "cell_type": "code",
   "execution_count": 9,
   "metadata": {},
   "outputs": [
    {
     "data": {
      "text/plain": [
       "0"
      ]
     },
     "execution_count": 9,
     "metadata": {},
     "output_type": "execute_result"
    }
   ],
   "source": [
    "train = train.fillna(0)\n",
    "train.isnull().sum().sum()"
   ]
  },
  {
   "cell_type": "code",
   "execution_count": 10,
   "metadata": {},
   "outputs": [
    {
     "data": {
      "text/plain": [
       "<bound method NDFrame.head of           building_id  meter  meter_reading  site_id  primary_use  \\\n",
       "0                   0      0       0.000000        0            0   \n",
       "1                   1      0       0.000000        0            0   \n",
       "2                   2      0       0.000000        0            0   \n",
       "3                   3      0       0.000000        0            0   \n",
       "4                   4      0       0.000000        0            0   \n",
       "...               ...    ...            ...      ...          ...   \n",
       "20125600         1444      0       8.750000       15            1   \n",
       "20125601         1445      0       4.825000       15            0   \n",
       "20125602         1446      0       0.000000       15            1   \n",
       "20125603         1447      0     159.574997       15            4   \n",
       "20125604         1448      0       2.850000       15            6   \n",
       "\n",
       "          square_feet  year_built  floor_count  air_temperature  \\\n",
       "0                7432      2008.0          0.0        25.000000   \n",
       "1                2720      2004.0          0.0        25.000000   \n",
       "2                5376      1991.0          0.0        25.000000   \n",
       "3               23685      2002.0          0.0        25.000000   \n",
       "4              116607      1975.0          0.0        25.000000   \n",
       "...               ...         ...          ...              ...   \n",
       "20125600        19619      1914.0          0.0         1.700195   \n",
       "20125601         4298         0.0          0.0         1.700195   \n",
       "20125602        11265      1997.0          0.0         1.700195   \n",
       "20125603        29775      2001.0          0.0         1.700195   \n",
       "20125604        92271      2001.0          0.0         1.700195   \n",
       "\n",
       "          cloud_coverage  dew_temperature  precip_depth_1_hr  \\\n",
       "0                    6.0        20.000000                0.0   \n",
       "1                    6.0        20.000000                0.0   \n",
       "2                    6.0        20.000000                0.0   \n",
       "3                    6.0        20.000000                0.0   \n",
       "4                    6.0        20.000000                0.0   \n",
       "...                  ...              ...                ...   \n",
       "20125600             0.0        -5.601562               -1.0   \n",
       "20125601             0.0        -5.601562               -1.0   \n",
       "20125602             0.0        -5.601562               -1.0   \n",
       "20125603             0.0        -5.601562               -1.0   \n",
       "20125604             0.0        -5.601562               -1.0   \n",
       "\n",
       "          sea_level_pressure  wind_direction  wind_speed  hour  weekday  month  \n",
       "0                     1019.5             0.0    0.000000     0        4      0  \n",
       "1                     1019.5             0.0    0.000000     0        4      0  \n",
       "2                     1019.5             0.0    0.000000     0        4      0  \n",
       "3                     1019.5             0.0    0.000000     0        4      0  \n",
       "4                     1019.5             0.0    0.000000     0        4      0  \n",
       "...                      ...             ...         ...   ...      ...    ...  \n",
       "20125600              1008.5           180.0    8.796875    23        5     11  \n",
       "20125601              1008.5           180.0    8.796875    23        5     11  \n",
       "20125602              1008.5           180.0    8.796875    23        5     11  \n",
       "20125603              1008.5           180.0    8.796875    23        5     11  \n",
       "20125604              1008.5           180.0    8.796875    23        5     11  \n",
       "\n",
       "[20125605 rows x 18 columns]>"
      ]
     },
     "execution_count": 10,
     "metadata": {},
     "output_type": "execute_result"
    }
   ],
   "source": [
    "train.head"
   ]
  },
  {
   "cell_type": "markdown",
   "metadata": {},
   "source": [
    "### Build Model"
   ]
  },
  {
   "cell_type": "code",
   "execution_count": 11,
   "metadata": {},
   "outputs": [],
   "source": [
    "y_train = train[\"meter_reading\"]\n",
    "del train[\"meter_reading\"]"
   ]
  },
  {
   "cell_type": "code",
   "execution_count": 12,
   "metadata": {},
   "outputs": [],
   "source": [
    "X_train, X_test, y_train, y_test = train_test_split(train, y_train, test_size=0.2, random_state=420)\n",
    "\n",
    "train_dmatrix = xgb.DMatrix(data=X_train,label=y_train)\n",
    "test_dmatrix = xgb.DMatrix(data=X_test,label=y_test)\n",
    "\n",
    "del train, X_train, X_test, y_train, y_test"
   ]
  },
  {
   "cell_type": "code",
   "execution_count": 13,
   "metadata": {},
   "outputs": [],
   "source": [
    "params = {\n",
    "    \"objective\": \"reg:squarederror\",\n",
    "    \"eval_metric\": \"rmse\",\n",
    "    \"booster\": \"gbtree\",\n",
    "    \"verbosity\": \"1\",\n",
    "}\n",
    "num_boost_round = 100\n",
    "evals = [(test_dmatrix,'eval'), (train_dmatrix,'train')]"
   ]
  },
  {
   "cell_type": "code",
   "execution_count": 14,
   "metadata": {},
   "outputs": [
    {
     "name": "stdout",
     "output_type": "stream",
     "text": [
      "[18:42:57] WARNING: /workspace/src/gbm/gbtree.cc:130: Tree method is automatically selected to be 'approx' for faster speed. To use old behavior (exact greedy algorithm on single machine), set tree_method to 'exact'.\n",
      "[0]\teval-rmse:128318.83594\ttrain-rmse:132541.01562\n",
      "Multiple eval metrics have been passed: 'train-rmse' will be used for early stopping.\n",
      "\n",
      "Will train until train-rmse hasn't improved in 10 rounds.\n",
      "[1]\teval-rmse:116805.26562\ttrain-rmse:120230.08594\n",
      "[2]\teval-rmse:110322.70312\ttrain-rmse:113510.90625\n",
      "[3]\teval-rmse:103635.53125\ttrain-rmse:106681.41406\n",
      "[4]\teval-rmse:98526.79688\ttrain-rmse:101670.88281\n",
      "[5]\teval-rmse:95082.10938\ttrain-rmse:98099.51562\n",
      "[6]\teval-rmse:92400.90625\ttrain-rmse:95546.78125\n",
      "[7]\teval-rmse:90657.03125\ttrain-rmse:93773.64844\n",
      "[8]\teval-rmse:89482.22656\ttrain-rmse:92328.28906\n",
      "[9]\teval-rmse:88398.79688\ttrain-rmse:91257.91406\n",
      "[10]\teval-rmse:85888.03906\ttrain-rmse:88818.44531\n",
      "[11]\teval-rmse:84572.00000\ttrain-rmse:87542.23438\n",
      "[12]\teval-rmse:83244.69531\ttrain-rmse:86275.74219\n",
      "[13]\teval-rmse:82830.67188\ttrain-rmse:85889.92188\n",
      "[14]\teval-rmse:82727.47656\ttrain-rmse:85782.89062\n",
      "[15]\teval-rmse:82394.21875\ttrain-rmse:85407.80469\n",
      "[16]\teval-rmse:82073.42188\ttrain-rmse:85116.96094\n",
      "[17]\teval-rmse:81622.57812\ttrain-rmse:84722.15625\n",
      "[18]\teval-rmse:80272.34375\ttrain-rmse:83402.93750\n",
      "[19]\teval-rmse:80062.79688\ttrain-rmse:83191.24219\n",
      "[20]\teval-rmse:79795.03906\ttrain-rmse:82933.32031\n",
      "[21]\teval-rmse:79504.20312\ttrain-rmse:82628.83594\n",
      "[22]\teval-rmse:79096.01562\ttrain-rmse:82195.64844\n",
      "[23]\teval-rmse:78420.78906\ttrain-rmse:81468.50781\n",
      "[24]\teval-rmse:78163.55469\ttrain-rmse:81229.36719\n",
      "[25]\teval-rmse:77451.89062\ttrain-rmse:80345.12500\n",
      "[26]\teval-rmse:77285.17969\ttrain-rmse:80182.77344\n",
      "[27]\teval-rmse:76238.86719\ttrain-rmse:79120.56250\n",
      "[28]\teval-rmse:75515.38281\ttrain-rmse:78431.20312\n",
      "[29]\teval-rmse:75413.65625\ttrain-rmse:78245.82031\n",
      "[30]\teval-rmse:74836.71875\ttrain-rmse:77660.47656\n",
      "[31]\teval-rmse:74538.44531\ttrain-rmse:77285.25000\n",
      "[32]\teval-rmse:74179.10156\ttrain-rmse:77002.10156\n",
      "[33]\teval-rmse:74107.24219\ttrain-rmse:76926.04688\n",
      "[34]\teval-rmse:73975.19531\ttrain-rmse:76821.79688\n",
      "[35]\teval-rmse:73911.73438\ttrain-rmse:76735.23438\n",
      "[36]\teval-rmse:73818.53125\ttrain-rmse:76627.89062\n",
      "[37]\teval-rmse:73759.14844\ttrain-rmse:76516.82812\n",
      "[38]\teval-rmse:73702.19531\ttrain-rmse:76461.04688\n",
      "[39]\teval-rmse:73538.85938\ttrain-rmse:76312.02344\n",
      "[40]\teval-rmse:73239.13281\ttrain-rmse:75991.61719\n",
      "[41]\teval-rmse:73244.00000\ttrain-rmse:75971.52344\n",
      "[42]\teval-rmse:73164.63281\ttrain-rmse:75897.45312\n",
      "[43]\teval-rmse:73173.50000\ttrain-rmse:75880.50781\n",
      "[44]\teval-rmse:73155.09375\ttrain-rmse:75822.01562\n",
      "[45]\teval-rmse:73023.75000\ttrain-rmse:75687.17969\n",
      "[46]\teval-rmse:73017.23438\ttrain-rmse:75655.97656\n",
      "[47]\teval-rmse:72951.17969\ttrain-rmse:75567.97656\n",
      "[48]\teval-rmse:72959.43750\ttrain-rmse:75552.96094\n",
      "[49]\teval-rmse:72875.93750\ttrain-rmse:75404.79688\n",
      "[50]\teval-rmse:72574.61719\ttrain-rmse:75168.28906\n",
      "[51]\teval-rmse:72554.07812\ttrain-rmse:75146.57031\n",
      "[52]\teval-rmse:72497.48438\ttrain-rmse:75097.03906\n",
      "[53]\teval-rmse:72479.72656\ttrain-rmse:75078.77344\n",
      "[54]\teval-rmse:72399.20312\ttrain-rmse:75009.32812\n",
      "[55]\teval-rmse:72383.06250\ttrain-rmse:74991.24219\n",
      "[56]\teval-rmse:72375.21875\ttrain-rmse:74978.05469\n",
      "[57]\teval-rmse:72322.48438\ttrain-rmse:74917.86719\n",
      "[58]\teval-rmse:72283.33594\ttrain-rmse:74886.46094\n",
      "[59]\teval-rmse:72255.14844\ttrain-rmse:74845.82031\n",
      "[60]\teval-rmse:72149.27344\ttrain-rmse:74689.75781\n",
      "[61]\teval-rmse:71737.37500\ttrain-rmse:74340.94531\n",
      "[62]\teval-rmse:71707.25000\ttrain-rmse:74302.32031\n",
      "[63]\teval-rmse:71686.51562\ttrain-rmse:74263.89844\n",
      "[64]\teval-rmse:71627.38281\ttrain-rmse:74199.79688\n",
      "[65]\teval-rmse:71550.77344\ttrain-rmse:74087.50781\n",
      "[66]\teval-rmse:71525.26562\ttrain-rmse:74017.08594\n",
      "[67]\teval-rmse:71489.74219\ttrain-rmse:73980.26562\n",
      "[68]\teval-rmse:71495.88281\ttrain-rmse:73946.70312\n",
      "[69]\teval-rmse:71460.18750\ttrain-rmse:73902.85938\n",
      "[70]\teval-rmse:71408.79688\ttrain-rmse:73828.06250\n",
      "[71]\teval-rmse:71405.86719\ttrain-rmse:73821.75781\n",
      "[72]\teval-rmse:71336.52344\ttrain-rmse:73717.88281\n",
      "[73]\teval-rmse:71315.89844\ttrain-rmse:73695.72656\n",
      "[74]\teval-rmse:71307.29688\ttrain-rmse:73681.09375\n",
      "[75]\teval-rmse:71257.21094\ttrain-rmse:73628.78906\n",
      "[76]\teval-rmse:71255.82812\ttrain-rmse:73622.32812\n",
      "[77]\teval-rmse:71251.21875\ttrain-rmse:73616.32031\n",
      "[78]\teval-rmse:71244.39844\ttrain-rmse:73602.17969\n",
      "[79]\teval-rmse:71238.64062\ttrain-rmse:73595.49219\n",
      "[80]\teval-rmse:71179.93750\ttrain-rmse:73538.91406\n",
      "[81]\teval-rmse:71162.39062\ttrain-rmse:73512.94531\n",
      "[82]\teval-rmse:71124.00781\ttrain-rmse:73475.82031\n",
      "[83]\teval-rmse:71099.67969\ttrain-rmse:73436.10156\n",
      "[84]\teval-rmse:71077.69531\ttrain-rmse:73394.14062\n",
      "[85]\teval-rmse:71038.99219\ttrain-rmse:73333.78125\n",
      "[86]\teval-rmse:70974.63281\ttrain-rmse:73266.14844\n",
      "[87]\teval-rmse:70958.08594\ttrain-rmse:73221.60156\n",
      "[88]\teval-rmse:70916.62500\ttrain-rmse:73180.85156\n",
      "[89]\teval-rmse:70914.85938\ttrain-rmse:73178.63281\n",
      "[90]\teval-rmse:70900.48438\ttrain-rmse:73144.78125\n",
      "[91]\teval-rmse:70897.57812\ttrain-rmse:73141.47656\n",
      "[92]\teval-rmse:70886.21094\ttrain-rmse:73129.73438\n",
      "[93]\teval-rmse:70809.89062\ttrain-rmse:73059.14062\n",
      "[94]\teval-rmse:70808.25000\ttrain-rmse:73042.11719\n",
      "[95]\teval-rmse:70802.18750\ttrain-rmse:73022.25781\n",
      "[96]\teval-rmse:70800.72656\ttrain-rmse:73001.40625\n",
      "[97]\teval-rmse:70770.42188\ttrain-rmse:72971.36719\n",
      "[98]\teval-rmse:70651.16406\ttrain-rmse:72819.05469\n",
      "[99]\teval-rmse:70620.21094\ttrain-rmse:72776.75781\n"
     ]
    }
   ],
   "source": [
    "xgb_model = xgb.train(params=params,\n",
    "                      dtrain=train_dmatrix,\n",
    "                      num_boost_round=num_boost_round,\n",
    "                      evals=evals,\n",
    "                      verbose_eval=True,\n",
    "                      early_stopping_rounds=10)"
   ]
  },
  {
   "cell_type": "code",
   "execution_count": 15,
   "metadata": {},
   "outputs": [],
   "source": [
    "xgb_model.save_model(\"../models/0001.model\")"
   ]
  },
  {
   "cell_type": "markdown",
   "metadata": {},
   "source": [
    "## Test model on submission data"
   ]
  },
  {
   "cell_type": "code",
   "execution_count": 1,
   "metadata": {},
   "outputs": [
    {
     "ename": "NameError",
     "evalue": "name 'train_dmatrix' is not defined",
     "output_type": "error",
     "traceback": [
      "\u001b[0;31m---------------------------------------------------------------------------\u001b[0m",
      "\u001b[0;31mNameError\u001b[0m                                 Traceback (most recent call last)",
      "\u001b[0;32m<ipython-input-1-4851b2275c62>\u001b[0m in \u001b[0;36m<module>\u001b[0;34m\u001b[0m\n\u001b[0;32m----> 1\u001b[0;31m \u001b[0;32mdel\u001b[0m \u001b[0mtrain_dmatrix\u001b[0m\u001b[0;34m,\u001b[0m \u001b[0mtest_dmatrix\u001b[0m\u001b[0;34m\u001b[0m\u001b[0;34m\u001b[0m\u001b[0m\n\u001b[0m",
      "\u001b[0;31mNameError\u001b[0m: name 'train_dmatrix' is not defined"
     ]
    }
   ],
   "source": [
    "del train_dmatrix, test_dmatrix"
   ]
  },
  {
   "cell_type": "code",
   "execution_count": 5,
   "metadata": {},
   "outputs": [],
   "source": [
    "xgb_model = xgb.Booster()\n",
    "xgb_model.load_model(\"0001.model\")"
   ]
  },
  {
   "cell_type": "code",
   "execution_count": 10,
   "metadata": {},
   "outputs": [
    {
     "name": "stdout",
     "output_type": "stream",
     "text": [
      "Mem. usage decreased to 2137.11 Mb (60.3% reduction)\n"
     ]
    }
   ],
   "source": [
    "building_df = pd.read_csv(\"../data/raw/building_metadata.csv\")\n",
    "weather_test = pd.read_csv(\"../data/raw/weather_test.csv\")\n",
    "test = pd.read_csv(\"../data/raw/test.csv\")\n",
    "\n",
    "test = test.merge(building_df, left_on = \"building_id\", right_on = \"building_id\", how = \"left\")\n",
    "test = test.merge(weather_test, left_on = [\"site_id\", \"timestamp\"], right_on = [\"site_id\", \"timestamp\"])\n",
    "del weather_test\n",
    "\n",
    "test = reduce_mem_usage(test)\n",
    "\n",
    "test[\"timestamp\"] = pd.to_datetime(test[\"timestamp\"])\n",
    "test[\"hour\"] = test[\"timestamp\"].dt.hour\n",
    "test[\"weekday\"] = test[\"timestamp\"].dt.weekday\n",
    "test[\"month\"] = test[\"timestamp\"].dt.month\n",
    "\n",
    "del test[\"timestamp\"]\n",
    "nominal_cols = [\"building_id\", \"meter\", \"site_id\", \"primary_use\"]\n",
    "ordinal_cols = [\"hour\", \"weekday\", \"month\"]\n",
    "\n",
    "test[ordinal_cols + nominal_cols] = test[ordinal_cols + nominal_cols].apply(LabelEncoder().fit_transform)\n",
    "\n",
    "row_ids = test[\"row_id\"]\n",
    "del test[\"row_id\"]"
   ]
  },
  {
   "cell_type": "code",
   "execution_count": 18,
   "metadata": {},
   "outputs": [
    {
     "data": {
      "text/plain": [
       "67"
      ]
     },
     "execution_count": 18,
     "metadata": {},
     "output_type": "execute_result"
    }
   ],
   "source": [
    "gc.collect()"
   ]
  },
  {
   "cell_type": "code",
   "execution_count": 19,
   "metadata": {},
   "outputs": [
    {
     "ename": "MemoryError",
     "evalue": "Unable to allocate array with shape (7, 13832857) and data type int64",
     "output_type": "error",
     "traceback": [
      "\u001b[0;31m---------------------------------------------------------------------------\u001b[0m",
      "\u001b[0;31mMemoryError\u001b[0m                               Traceback (most recent call last)",
      "\u001b[0;32m<ipython-input-19-1226f9da9574>\u001b[0m in \u001b[0;36m<module>\u001b[0;34m\u001b[0m\n\u001b[0;32m----> 1\u001b[0;31m \u001b[0mtest_split\u001b[0m \u001b[0;34m=\u001b[0m \u001b[0mnp\u001b[0m\u001b[0;34m.\u001b[0m\u001b[0marray_split\u001b[0m\u001b[0;34m(\u001b[0m\u001b[0mtest\u001b[0m\u001b[0;34m,\u001b[0m \u001b[0;36m3\u001b[0m\u001b[0;34m)\u001b[0m\u001b[0;34m\u001b[0m\u001b[0;34m\u001b[0m\u001b[0m\n\u001b[0m",
      "\u001b[0;32m<__array_function__ internals>\u001b[0m in \u001b[0;36marray_split\u001b[0;34m(*args, **kwargs)\u001b[0m\n",
      "\u001b[0;32m~/Projects/ashrae-energy-prediction/.venv/lib/python3.7/site-packages/numpy/lib/shape_base.py\u001b[0m in \u001b[0;36marray_split\u001b[0;34m(ary, indices_or_sections, axis)\u001b[0m\n\u001b[1;32m    771\u001b[0m         \u001b[0mst\u001b[0m \u001b[0;34m=\u001b[0m \u001b[0mdiv_points\u001b[0m\u001b[0;34m[\u001b[0m\u001b[0mi\u001b[0m\u001b[0;34m]\u001b[0m\u001b[0;34m\u001b[0m\u001b[0;34m\u001b[0m\u001b[0m\n\u001b[1;32m    772\u001b[0m         \u001b[0mend\u001b[0m \u001b[0;34m=\u001b[0m \u001b[0mdiv_points\u001b[0m\u001b[0;34m[\u001b[0m\u001b[0mi\u001b[0m \u001b[0;34m+\u001b[0m \u001b[0;36m1\u001b[0m\u001b[0;34m]\u001b[0m\u001b[0;34m\u001b[0m\u001b[0;34m\u001b[0m\u001b[0m\n\u001b[0;32m--> 773\u001b[0;31m         \u001b[0msub_arys\u001b[0m\u001b[0;34m.\u001b[0m\u001b[0mappend\u001b[0m\u001b[0;34m(\u001b[0m\u001b[0m_nx\u001b[0m\u001b[0;34m.\u001b[0m\u001b[0mswapaxes\u001b[0m\u001b[0;34m(\u001b[0m\u001b[0msary\u001b[0m\u001b[0;34m[\u001b[0m\u001b[0mst\u001b[0m\u001b[0;34m:\u001b[0m\u001b[0mend\u001b[0m\u001b[0;34m]\u001b[0m\u001b[0;34m,\u001b[0m \u001b[0maxis\u001b[0m\u001b[0;34m,\u001b[0m \u001b[0;36m0\u001b[0m\u001b[0;34m)\u001b[0m\u001b[0;34m)\u001b[0m\u001b[0;34m\u001b[0m\u001b[0;34m\u001b[0m\u001b[0m\n\u001b[0m\u001b[1;32m    774\u001b[0m \u001b[0;34m\u001b[0m\u001b[0m\n\u001b[1;32m    775\u001b[0m     \u001b[0;32mreturn\u001b[0m \u001b[0msub_arys\u001b[0m\u001b[0;34m\u001b[0m\u001b[0;34m\u001b[0m\u001b[0m\n",
      "\u001b[0;32m<__array_function__ internals>\u001b[0m in \u001b[0;36mswapaxes\u001b[0;34m(*args, **kwargs)\u001b[0m\n",
      "\u001b[0;32m~/Projects/ashrae-energy-prediction/.venv/lib/python3.7/site-packages/numpy/core/fromnumeric.py\u001b[0m in \u001b[0;36mswapaxes\u001b[0;34m(a, axis1, axis2)\u001b[0m\n\u001b[1;32m    594\u001b[0m \u001b[0;34m\u001b[0m\u001b[0m\n\u001b[1;32m    595\u001b[0m     \"\"\"\n\u001b[0;32m--> 596\u001b[0;31m     \u001b[0;32mreturn\u001b[0m \u001b[0m_wrapfunc\u001b[0m\u001b[0;34m(\u001b[0m\u001b[0ma\u001b[0m\u001b[0;34m,\u001b[0m \u001b[0;34m'swapaxes'\u001b[0m\u001b[0;34m,\u001b[0m \u001b[0maxis1\u001b[0m\u001b[0;34m,\u001b[0m \u001b[0maxis2\u001b[0m\u001b[0;34m)\u001b[0m\u001b[0;34m\u001b[0m\u001b[0;34m\u001b[0m\u001b[0m\n\u001b[0m\u001b[1;32m    597\u001b[0m \u001b[0;34m\u001b[0m\u001b[0m\n\u001b[1;32m    598\u001b[0m \u001b[0;34m\u001b[0m\u001b[0m\n",
      "\u001b[0;32m~/Projects/ashrae-energy-prediction/.venv/lib/python3.7/site-packages/numpy/core/fromnumeric.py\u001b[0m in \u001b[0;36m_wrapfunc\u001b[0;34m(obj, method, *args, **kwds)\u001b[0m\n\u001b[1;32m     59\u001b[0m \u001b[0;34m\u001b[0m\u001b[0m\n\u001b[1;32m     60\u001b[0m     \u001b[0;32mtry\u001b[0m\u001b[0;34m:\u001b[0m\u001b[0;34m\u001b[0m\u001b[0;34m\u001b[0m\u001b[0m\n\u001b[0;32m---> 61\u001b[0;31m         \u001b[0;32mreturn\u001b[0m \u001b[0mbound\u001b[0m\u001b[0;34m(\u001b[0m\u001b[0;34m*\u001b[0m\u001b[0margs\u001b[0m\u001b[0;34m,\u001b[0m \u001b[0;34m**\u001b[0m\u001b[0mkwds\u001b[0m\u001b[0;34m)\u001b[0m\u001b[0;34m\u001b[0m\u001b[0;34m\u001b[0m\u001b[0m\n\u001b[0m\u001b[1;32m     62\u001b[0m     \u001b[0;32mexcept\u001b[0m \u001b[0mTypeError\u001b[0m\u001b[0;34m:\u001b[0m\u001b[0;34m\u001b[0m\u001b[0;34m\u001b[0m\u001b[0m\n\u001b[1;32m     63\u001b[0m         \u001b[0;31m# A TypeError occurs if the object does have such a method in its\u001b[0m\u001b[0;34m\u001b[0m\u001b[0;34m\u001b[0m\u001b[0;34m\u001b[0m\u001b[0m\n",
      "\u001b[0;32m~/Projects/ashrae-energy-prediction/.venv/lib/python3.7/site-packages/pandas/core/generic.py\u001b[0m in \u001b[0;36mswapaxes\u001b[0;34m(self, axis1, axis2, copy)\u001b[0m\n\u001b[1;32m    748\u001b[0m         \u001b[0;32mif\u001b[0m \u001b[0mi\u001b[0m \u001b[0;34m==\u001b[0m \u001b[0mj\u001b[0m\u001b[0;34m:\u001b[0m\u001b[0;34m\u001b[0m\u001b[0;34m\u001b[0m\u001b[0m\n\u001b[1;32m    749\u001b[0m             \u001b[0;32mif\u001b[0m \u001b[0mcopy\u001b[0m\u001b[0;34m:\u001b[0m\u001b[0;34m\u001b[0m\u001b[0;34m\u001b[0m\u001b[0m\n\u001b[0;32m--> 750\u001b[0;31m                 \u001b[0;32mreturn\u001b[0m \u001b[0mself\u001b[0m\u001b[0;34m.\u001b[0m\u001b[0mcopy\u001b[0m\u001b[0;34m(\u001b[0m\u001b[0;34m)\u001b[0m\u001b[0;34m\u001b[0m\u001b[0;34m\u001b[0m\u001b[0m\n\u001b[0m\u001b[1;32m    751\u001b[0m             \u001b[0;32mreturn\u001b[0m \u001b[0mself\u001b[0m\u001b[0;34m\u001b[0m\u001b[0;34m\u001b[0m\u001b[0m\n\u001b[1;32m    752\u001b[0m \u001b[0;34m\u001b[0m\u001b[0m\n",
      "\u001b[0;32m~/Projects/ashrae-energy-prediction/.venv/lib/python3.7/site-packages/pandas/core/generic.py\u001b[0m in \u001b[0;36mcopy\u001b[0;34m(self, deep)\u001b[0m\n\u001b[1;32m   5994\u001b[0m         \u001b[0mdtype\u001b[0m\u001b[0;34m:\u001b[0m \u001b[0mobject\u001b[0m\u001b[0;34m\u001b[0m\u001b[0;34m\u001b[0m\u001b[0m\n\u001b[1;32m   5995\u001b[0m         \"\"\"\n\u001b[0;32m-> 5996\u001b[0;31m         \u001b[0mdata\u001b[0m \u001b[0;34m=\u001b[0m \u001b[0mself\u001b[0m\u001b[0;34m.\u001b[0m\u001b[0m_data\u001b[0m\u001b[0;34m.\u001b[0m\u001b[0mcopy\u001b[0m\u001b[0;34m(\u001b[0m\u001b[0mdeep\u001b[0m\u001b[0;34m=\u001b[0m\u001b[0mdeep\u001b[0m\u001b[0;34m)\u001b[0m\u001b[0;34m\u001b[0m\u001b[0;34m\u001b[0m\u001b[0m\n\u001b[0m\u001b[1;32m   5997\u001b[0m         \u001b[0;32mreturn\u001b[0m \u001b[0mself\u001b[0m\u001b[0;34m.\u001b[0m\u001b[0m_constructor\u001b[0m\u001b[0;34m(\u001b[0m\u001b[0mdata\u001b[0m\u001b[0;34m)\u001b[0m\u001b[0;34m.\u001b[0m\u001b[0m__finalize__\u001b[0m\u001b[0;34m(\u001b[0m\u001b[0mself\u001b[0m\u001b[0;34m)\u001b[0m\u001b[0;34m\u001b[0m\u001b[0;34m\u001b[0m\u001b[0m\n\u001b[1;32m   5998\u001b[0m \u001b[0;34m\u001b[0m\u001b[0m\n",
      "\u001b[0;32m~/Projects/ashrae-energy-prediction/.venv/lib/python3.7/site-packages/pandas/core/internals/managers.py\u001b[0m in \u001b[0;36mcopy\u001b[0;34m(self, deep)\u001b[0m\n\u001b[1;32m    786\u001b[0m         \u001b[0;32melse\u001b[0m\u001b[0;34m:\u001b[0m\u001b[0;34m\u001b[0m\u001b[0;34m\u001b[0m\u001b[0m\n\u001b[1;32m    787\u001b[0m             \u001b[0mnew_axes\u001b[0m \u001b[0;34m=\u001b[0m \u001b[0mlist\u001b[0m\u001b[0;34m(\u001b[0m\u001b[0mself\u001b[0m\u001b[0;34m.\u001b[0m\u001b[0maxes\u001b[0m\u001b[0;34m)\u001b[0m\u001b[0;34m\u001b[0m\u001b[0;34m\u001b[0m\u001b[0m\n\u001b[0;32m--> 788\u001b[0;31m         \u001b[0;32mreturn\u001b[0m \u001b[0mself\u001b[0m\u001b[0;34m.\u001b[0m\u001b[0mapply\u001b[0m\u001b[0;34m(\u001b[0m\u001b[0;34m\"copy\"\u001b[0m\u001b[0;34m,\u001b[0m \u001b[0maxes\u001b[0m\u001b[0;34m=\u001b[0m\u001b[0mnew_axes\u001b[0m\u001b[0;34m,\u001b[0m \u001b[0mdeep\u001b[0m\u001b[0;34m=\u001b[0m\u001b[0mdeep\u001b[0m\u001b[0;34m,\u001b[0m \u001b[0mdo_integrity_check\u001b[0m\u001b[0;34m=\u001b[0m\u001b[0;32mFalse\u001b[0m\u001b[0;34m)\u001b[0m\u001b[0;34m\u001b[0m\u001b[0;34m\u001b[0m\u001b[0m\n\u001b[0m\u001b[1;32m    789\u001b[0m \u001b[0;34m\u001b[0m\u001b[0m\n\u001b[1;32m    790\u001b[0m     \u001b[0;32mdef\u001b[0m \u001b[0mas_array\u001b[0m\u001b[0;34m(\u001b[0m\u001b[0mself\u001b[0m\u001b[0;34m,\u001b[0m \u001b[0mtranspose\u001b[0m\u001b[0;34m=\u001b[0m\u001b[0;32mFalse\u001b[0m\u001b[0;34m,\u001b[0m \u001b[0mitems\u001b[0m\u001b[0;34m=\u001b[0m\u001b[0;32mNone\u001b[0m\u001b[0;34m)\u001b[0m\u001b[0;34m:\u001b[0m\u001b[0;34m\u001b[0m\u001b[0;34m\u001b[0m\u001b[0m\n",
      "\u001b[0;32m~/Projects/ashrae-energy-prediction/.venv/lib/python3.7/site-packages/pandas/core/internals/managers.py\u001b[0m in \u001b[0;36mapply\u001b[0;34m(self, f, axes, filter, do_integrity_check, consolidate, **kwargs)\u001b[0m\n\u001b[1;32m    436\u001b[0m                     \u001b[0mkwargs\u001b[0m\u001b[0;34m[\u001b[0m\u001b[0mk\u001b[0m\u001b[0;34m]\u001b[0m \u001b[0;34m=\u001b[0m \u001b[0mobj\u001b[0m\u001b[0;34m.\u001b[0m\u001b[0mreindex\u001b[0m\u001b[0;34m(\u001b[0m\u001b[0mb_items\u001b[0m\u001b[0;34m,\u001b[0m \u001b[0maxis\u001b[0m\u001b[0;34m=\u001b[0m\u001b[0maxis\u001b[0m\u001b[0;34m,\u001b[0m \u001b[0mcopy\u001b[0m\u001b[0;34m=\u001b[0m\u001b[0malign_copy\u001b[0m\u001b[0;34m)\u001b[0m\u001b[0;34m\u001b[0m\u001b[0;34m\u001b[0m\u001b[0m\n\u001b[1;32m    437\u001b[0m \u001b[0;34m\u001b[0m\u001b[0m\n\u001b[0;32m--> 438\u001b[0;31m             \u001b[0mapplied\u001b[0m \u001b[0;34m=\u001b[0m \u001b[0mgetattr\u001b[0m\u001b[0;34m(\u001b[0m\u001b[0mb\u001b[0m\u001b[0;34m,\u001b[0m \u001b[0mf\u001b[0m\u001b[0;34m)\u001b[0m\u001b[0;34m(\u001b[0m\u001b[0;34m**\u001b[0m\u001b[0mkwargs\u001b[0m\u001b[0;34m)\u001b[0m\u001b[0;34m\u001b[0m\u001b[0;34m\u001b[0m\u001b[0m\n\u001b[0m\u001b[1;32m    439\u001b[0m             \u001b[0mresult_blocks\u001b[0m \u001b[0;34m=\u001b[0m \u001b[0m_extend_blocks\u001b[0m\u001b[0;34m(\u001b[0m\u001b[0mapplied\u001b[0m\u001b[0;34m,\u001b[0m \u001b[0mresult_blocks\u001b[0m\u001b[0;34m)\u001b[0m\u001b[0;34m\u001b[0m\u001b[0;34m\u001b[0m\u001b[0m\n\u001b[1;32m    440\u001b[0m \u001b[0;34m\u001b[0m\u001b[0m\n",
      "\u001b[0;32m~/Projects/ashrae-energy-prediction/.venv/lib/python3.7/site-packages/pandas/core/internals/blocks.py\u001b[0m in \u001b[0;36mcopy\u001b[0;34m(self, deep)\u001b[0m\n\u001b[1;32m    769\u001b[0m         \u001b[0mvalues\u001b[0m \u001b[0;34m=\u001b[0m \u001b[0mself\u001b[0m\u001b[0;34m.\u001b[0m\u001b[0mvalues\u001b[0m\u001b[0;34m\u001b[0m\u001b[0;34m\u001b[0m\u001b[0m\n\u001b[1;32m    770\u001b[0m         \u001b[0;32mif\u001b[0m \u001b[0mdeep\u001b[0m\u001b[0;34m:\u001b[0m\u001b[0;34m\u001b[0m\u001b[0;34m\u001b[0m\u001b[0m\n\u001b[0;32m--> 771\u001b[0;31m             \u001b[0mvalues\u001b[0m \u001b[0;34m=\u001b[0m \u001b[0mvalues\u001b[0m\u001b[0;34m.\u001b[0m\u001b[0mcopy\u001b[0m\u001b[0;34m(\u001b[0m\u001b[0;34m)\u001b[0m\u001b[0;34m\u001b[0m\u001b[0;34m\u001b[0m\u001b[0m\n\u001b[0m\u001b[1;32m    772\u001b[0m         \u001b[0;32mreturn\u001b[0m \u001b[0mself\u001b[0m\u001b[0;34m.\u001b[0m\u001b[0mmake_block_same_class\u001b[0m\u001b[0;34m(\u001b[0m\u001b[0mvalues\u001b[0m\u001b[0;34m,\u001b[0m \u001b[0mndim\u001b[0m\u001b[0;34m=\u001b[0m\u001b[0mself\u001b[0m\u001b[0;34m.\u001b[0m\u001b[0mndim\u001b[0m\u001b[0;34m)\u001b[0m\u001b[0;34m\u001b[0m\u001b[0;34m\u001b[0m\u001b[0m\n\u001b[1;32m    773\u001b[0m \u001b[0;34m\u001b[0m\u001b[0m\n",
      "\u001b[0;31mMemoryError\u001b[0m: Unable to allocate array with shape (7, 13832857) and data type int64"
     ]
    }
   ],
   "source": [
    "test_dmatrix = xgb.DMatrix(test)\n",
    "del test\n",
    "y_test = xgb_model.predict(test_dmatrix)\n",
    "\n",
    "submission = pd.DataFrame({\"row_id\": row_ids, \"meter_reading\": y_test})\n",
    "submission.to_csv(\"submission.csv\", index=False)"
   ]
  }
 ],
 "metadata": {
  "kernelspec": {
   "display_name": "Python 3",
   "language": "python",
   "name": "python3"
  },
  "language_info": {
   "codemirror_mode": {
    "name": "ipython",
    "version": 3
   },
   "file_extension": ".py",
   "mimetype": "text/x-python",
   "name": "python",
   "nbconvert_exporter": "python",
   "pygments_lexer": "ipython3",
   "version": "3.7.5"
  }
 },
 "nbformat": 4,
 "nbformat_minor": 2
}
