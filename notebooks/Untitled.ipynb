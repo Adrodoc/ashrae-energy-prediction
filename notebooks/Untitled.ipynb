{
 "cells": [
  {
   "cell_type": "code",
   "execution_count": 1,
   "metadata": {},
   "outputs": [],
   "source": [
    "cv_results = []\n",
    "for i in range(5):\n",
    "    cv_results.append({'train': {'logloss': ['0.48253', '0.35953']},\n",
    " 'eval': {'logloss': ['0.480385', '0.357756']}})"
   ]
  },
  {
   "cell_type": "code",
   "execution_count": 4,
   "metadata": {},
   "outputs": [
    {
     "name": "stdout",
     "output_type": "stream",
     "text": [
      "| train: {'logloss': ['0.48253', '0.35953']} || eval: {'logloss': ['0.480385', '0.357756']} |\n",
      "| train: {'logloss': ['0.48253', '0.35953']} || eval: {'logloss': ['0.480385', '0.357756']} |\n",
      "| train: {'logloss': ['0.48253', '0.35953']} || eval: {'logloss': ['0.480385', '0.357756']} |\n",
      "| train: {'logloss': ['0.48253', '0.35953']} || eval: {'logloss': ['0.480385', '0.357756']} |\n",
      "| train: {'logloss': ['0.48253', '0.35953']} || eval: {'logloss': ['0.480385', '0.357756']} |\n"
     ]
    }
   ],
   "source": [
    "    for result in cv_results:\n",
    "        result_print = \"\".join(\"| {0}: {1} |\".format(k, v) for k, v in result.items())\n",
    "        print(result_print)"
   ]
  },
  {
   "cell_type": "code",
   "execution_count": 24,
   "metadata": {},
   "outputs": [
    {
     "name": "stdout",
     "output_type": "stream",
     "text": [
      "[['0.48253', '0.35953']]\n",
      "[['0.48253', '0.35953']]\n",
      "[['0.48253', '0.35953']]\n",
      "[['0.48253', '0.35953']]\n",
      "[['0.48253', '0.35953']]\n"
     ]
    }
   ],
   "source": [
    "for i, metrics in enumerate(cv_results):\n",
    "    loss_eval = list(metrics[\"train\"].values())\n",
    "    print (loss_eval)"
   ]
  },
  {
   "cell_type": "code",
   "execution_count": 33,
   "metadata": {},
   "outputs": [
    {
     "name": "stdout",
     "output_type": "stream",
     "text": [
      "0.35953\n",
      "0.35953\n",
      "0.35953\n",
      "0.35953\n",
      "0.35953\n"
     ]
    }
   ],
   "source": [
    "for i, metrics in enumerate(cv_results):\n",
    "    loss_eval = [x[-1] for x in list(metrics[\"train\"].values())][0]\n",
    "    print (loss_eval)"
   ]
  },
  {
   "cell_type": "code",
   "execution_count": 37,
   "metadata": {},
   "outputs": [
    {
     "name": "stdout",
     "output_type": "stream",
     "text": [
      "0|\tEval:\t0.358\t|\ttrain:\t0.360\n",
      "1|\tEval:\t0.358\t|\ttrain:\t0.360\n",
      "2|\tEval:\t0.358\t|\ttrain:\t0.360\n",
      "3|\tEval:\t0.358\t|\ttrain:\t0.360\n",
      "4|\tEval:\t0.358\t|\ttrain:\t0.360\n"
     ]
    }
   ],
   "source": [
    "for i, metrics in enumerate(cv_results):\n",
    "    loss_eval = float([x[-1] for x in list(metrics[\"eval\"].values())][0])\n",
    "    loss_train = float([x[-1] for x in list(metrics[\"train\"].values())][0])\n",
    "    print (\"{0}|\\tEval:\\t{1:.3f}\\t|\\ttrain:\\t{2:.3f}\"\\\n",
    "           .format(i, loss_eval, loss_train)) "
   ]
  }
 ],
 "metadata": {
  "kernelspec": {
   "display_name": "Python 3",
   "language": "python",
   "name": "python3"
  },
  "language_info": {
   "codemirror_mode": {
    "name": "ipython",
    "version": 3
   },
   "file_extension": ".py",
   "mimetype": "text/x-python",
   "name": "python",
   "nbconvert_exporter": "python",
   "pygments_lexer": "ipython3",
   "version": "3.7.5"
  }
 },
 "nbformat": 4,
 "nbformat_minor": 2
}
