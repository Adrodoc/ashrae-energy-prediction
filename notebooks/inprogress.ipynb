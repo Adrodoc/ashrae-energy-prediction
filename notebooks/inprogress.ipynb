{
 "cells": [
  {
   "cell_type": "code",
   "execution_count": 1,
   "metadata": {},
   "outputs": [],
   "source": [
    "import pandas as pd\n",
    "import numpy as np\n",
    "from sklearn.model_selection import GroupKFold"
   ]
  },
  {
   "cell_type": "code",
   "execution_count": 2,
   "metadata": {},
   "outputs": [],
   "source": [
    "# train has meter readings, which are obviously lacking in test set\n",
    "train_df = pd.read_pickle(\"../data/processed/train_data.pkl\")\n",
    "#test_df = pd.read_pickle(\"../data/processed/test_data.pkl\")"
   ]
  },
  {
   "cell_type": "code",
   "execution_count": 3,
   "metadata": {},
   "outputs": [
    {
     "data": {
      "text/html": [
       "<div>\n",
       "<style scoped>\n",
       "    .dataframe tbody tr th:only-of-type {\n",
       "        vertical-align: middle;\n",
       "    }\n",
       "\n",
       "    .dataframe tbody tr th {\n",
       "        vertical-align: top;\n",
       "    }\n",
       "\n",
       "    .dataframe thead th {\n",
       "        text-align: right;\n",
       "    }\n",
       "</style>\n",
       "<table border=\"1\" class=\"dataframe\">\n",
       "  <thead>\n",
       "    <tr style=\"text-align: right;\">\n",
       "      <th></th>\n",
       "      <th>building_id</th>\n",
       "      <th>meter</th>\n",
       "      <th>meter_reading</th>\n",
       "      <th>site_id</th>\n",
       "      <th>primary_use</th>\n",
       "      <th>square_feet</th>\n",
       "      <th>year_built</th>\n",
       "      <th>floor_count</th>\n",
       "      <th>air_temperature</th>\n",
       "      <th>cloud_coverage</th>\n",
       "      <th>...</th>\n",
       "      <th>weekday</th>\n",
       "      <th>area_per_floor</th>\n",
       "      <th>outlier_square_feet</th>\n",
       "      <th>outlier_area_per_floor</th>\n",
       "      <th>air_temperature_6_lag</th>\n",
       "      <th>air_temperature_24_lag</th>\n",
       "      <th>dew_temperature_6_lag</th>\n",
       "      <th>dew_temperature_24_lag</th>\n",
       "      <th>cloud_coverage_6_lag</th>\n",
       "      <th>cloud_coverage_24_lag</th>\n",
       "    </tr>\n",
       "  </thead>\n",
       "  <tbody>\n",
       "    <tr>\n",
       "      <th>0</th>\n",
       "      <td>0</td>\n",
       "      <td>0</td>\n",
       "      <td>0.000000</td>\n",
       "      <td>0</td>\n",
       "      <td>0</td>\n",
       "      <td>8.913550</td>\n",
       "      <td>11.0</td>\n",
       "      <td>NaN</td>\n",
       "      <td>19.406250</td>\n",
       "      <td>3.162209</td>\n",
       "      <td>...</td>\n",
       "      <td>4</td>\n",
       "      <td>NaN</td>\n",
       "      <td>False</td>\n",
       "      <td>False</td>\n",
       "      <td>NaN</td>\n",
       "      <td>NaN</td>\n",
       "      <td>NaN</td>\n",
       "      <td>NaN</td>\n",
       "      <td>NaN</td>\n",
       "      <td>NaN</td>\n",
       "    </tr>\n",
       "    <tr>\n",
       "      <th>1</th>\n",
       "      <td>1142</td>\n",
       "      <td>1</td>\n",
       "      <td>0.000000</td>\n",
       "      <td>13</td>\n",
       "      <td>6</td>\n",
       "      <td>11.549431</td>\n",
       "      <td>NaN</td>\n",
       "      <td>NaN</td>\n",
       "      <td>-7.199219</td>\n",
       "      <td>8.000000</td>\n",
       "      <td>...</td>\n",
       "      <td>4</td>\n",
       "      <td>NaN</td>\n",
       "      <td>False</td>\n",
       "      <td>False</td>\n",
       "      <td>16.768229</td>\n",
       "      <td>18.847656</td>\n",
       "      <td>11.118490</td>\n",
       "      <td>10.296224</td>\n",
       "      <td>3.326116</td>\n",
       "      <td>3.221908</td>\n",
       "    </tr>\n",
       "    <tr>\n",
       "      <th>2</th>\n",
       "      <td>1142</td>\n",
       "      <td>0</td>\n",
       "      <td>48.000000</td>\n",
       "      <td>13</td>\n",
       "      <td>6</td>\n",
       "      <td>11.549431</td>\n",
       "      <td>NaN</td>\n",
       "      <td>NaN</td>\n",
       "      <td>-7.199219</td>\n",
       "      <td>8.000000</td>\n",
       "      <td>...</td>\n",
       "      <td>4</td>\n",
       "      <td>NaN</td>\n",
       "      <td>False</td>\n",
       "      <td>False</td>\n",
       "      <td>17.519531</td>\n",
       "      <td>18.801758</td>\n",
       "      <td>11.302083</td>\n",
       "      <td>10.154460</td>\n",
       "      <td>3.072498</td>\n",
       "      <td>3.138575</td>\n",
       "    </tr>\n",
       "    <tr>\n",
       "      <th>3</th>\n",
       "      <td>1141</td>\n",
       "      <td>0</td>\n",
       "      <td>21.000000</td>\n",
       "      <td>13</td>\n",
       "      <td>8</td>\n",
       "      <td>9.951611</td>\n",
       "      <td>NaN</td>\n",
       "      <td>NaN</td>\n",
       "      <td>-7.199219</td>\n",
       "      <td>8.000000</td>\n",
       "      <td>...</td>\n",
       "      <td>4</td>\n",
       "      <td>NaN</td>\n",
       "      <td>False</td>\n",
       "      <td>False</td>\n",
       "      <td>18.153646</td>\n",
       "      <td>18.660156</td>\n",
       "      <td>11.402344</td>\n",
       "      <td>9.991862</td>\n",
       "      <td>2.856456</td>\n",
       "      <td>2.971908</td>\n",
       "    </tr>\n",
       "    <tr>\n",
       "      <th>4</th>\n",
       "      <td>1140</td>\n",
       "      <td>2</td>\n",
       "      <td>6609.379883</td>\n",
       "      <td>13</td>\n",
       "      <td>0</td>\n",
       "      <td>11.960703</td>\n",
       "      <td>NaN</td>\n",
       "      <td>NaN</td>\n",
       "      <td>-7.199219</td>\n",
       "      <td>8.000000</td>\n",
       "      <td>...</td>\n",
       "      <td>4</td>\n",
       "      <td>NaN</td>\n",
       "      <td>False</td>\n",
       "      <td>False</td>\n",
       "      <td>18.703125</td>\n",
       "      <td>18.518229</td>\n",
       "      <td>11.302083</td>\n",
       "      <td>9.783366</td>\n",
       "      <td>2.856456</td>\n",
       "      <td>2.721908</td>\n",
       "    </tr>\n",
       "  </tbody>\n",
       "</table>\n",
       "<p>5 rows × 26 columns</p>\n",
       "</div>"
      ],
      "text/plain": [
       "  building_id meter  meter_reading site_id primary_use  square_feet  \\\n",
       "0           0     0       0.000000       0           0     8.913550   \n",
       "1        1142     1       0.000000      13           6    11.549431   \n",
       "2        1142     0      48.000000      13           6    11.549431   \n",
       "3        1141     0      21.000000      13           8     9.951611   \n",
       "4        1140     2    6609.379883      13           0    11.960703   \n",
       "\n",
       "   year_built  floor_count  air_temperature  cloud_coverage  ...  weekday  \\\n",
       "0        11.0          NaN        19.406250        3.162209  ...        4   \n",
       "1         NaN          NaN        -7.199219        8.000000  ...        4   \n",
       "2         NaN          NaN        -7.199219        8.000000  ...        4   \n",
       "3         NaN          NaN        -7.199219        8.000000  ...        4   \n",
       "4         NaN          NaN        -7.199219        8.000000  ...        4   \n",
       "\n",
       "   area_per_floor  outlier_square_feet  outlier_area_per_floor  \\\n",
       "0             NaN                False                   False   \n",
       "1             NaN                False                   False   \n",
       "2             NaN                False                   False   \n",
       "3             NaN                False                   False   \n",
       "4             NaN                False                   False   \n",
       "\n",
       "   air_temperature_6_lag air_temperature_24_lag dew_temperature_6_lag  \\\n",
       "0                    NaN                    NaN                   NaN   \n",
       "1              16.768229              18.847656             11.118490   \n",
       "2              17.519531              18.801758             11.302083   \n",
       "3              18.153646              18.660156             11.402344   \n",
       "4              18.703125              18.518229             11.302083   \n",
       "\n",
       "   dew_temperature_24_lag  cloud_coverage_6_lag  cloud_coverage_24_lag  \n",
       "0                     NaN                   NaN                    NaN  \n",
       "1               10.296224              3.326116               3.221908  \n",
       "2               10.154460              3.072498               3.138575  \n",
       "3                9.991862              2.856456               2.971908  \n",
       "4                9.783366              2.856456               2.721908  \n",
       "\n",
       "[5 rows x 26 columns]"
      ]
     },
     "execution_count": 3,
     "metadata": {},
     "output_type": "execute_result"
    }
   ],
   "source": [
    "train_df.head()"
   ]
  },
  {
   "cell_type": "code",
   "execution_count": 4,
   "metadata": {},
   "outputs": [
    {
     "data": {
      "text/plain": [
       "(19229841, 26)"
      ]
     },
     "execution_count": 4,
     "metadata": {},
     "output_type": "execute_result"
    }
   ],
   "source": [
    "train_df.shape"
   ]
  },
  {
   "cell_type": "code",
   "execution_count": 5,
   "metadata": {},
   "outputs": [
    {
     "data": {
      "text/plain": [
       "Index(['building_id', 'meter', 'meter_reading', 'site_id', 'primary_use',\n",
       "       'square_feet', 'year_built', 'floor_count', 'air_temperature',\n",
       "       'cloud_coverage', 'dew_temperature', 'precip_depth_1_hr',\n",
       "       'relative_humidity', 'air_temp_f', 'feels_like_temp', 'hour', 'weekday',\n",
       "       'area_per_floor', 'outlier_square_feet', 'outlier_area_per_floor',\n",
       "       'air_temperature_6_lag', 'air_temperature_24_lag',\n",
       "       'dew_temperature_6_lag', 'dew_temperature_24_lag',\n",
       "       'cloud_coverage_6_lag', 'cloud_coverage_24_lag'],\n",
       "      dtype='object')"
      ]
     },
     "execution_count": 5,
     "metadata": {},
     "output_type": "execute_result"
    }
   ],
   "source": [
    "train_df.columns"
   ]
  },
  {
   "cell_type": "code",
   "execution_count": 18,
   "metadata": {},
   "outputs": [
    {
     "ename": "ValueError",
     "evalue": "For grouped cv, the cross validation is grouped on building_id. Therefore it must be excluded from the `drop` section in the config file BEFORE using make data. Note that the building_id is still not included in the model, it is needed for specifying the folds only and will be dropped afterwards.",
     "output_type": "error",
     "traceback": [
      "\u001b[1;31m---------------------------------------------------------------------------\u001b[0m",
      "\u001b[1;31mValueError\u001b[0m                                Traceback (most recent call last)",
      "\u001b[1;32m<ipython-input-18-3de860ecd1a2>\u001b[0m in \u001b[0;36m<module>\u001b[1;34m\u001b[0m\n\u001b[0;32m      1\u001b[0m \u001b[1;32mif\u001b[0m \u001b[1;32mnot\u001b[0m \u001b[1;34m'building_id2'\u001b[0m \u001b[1;32min\u001b[0m \u001b[0mtrain_df\u001b[0m\u001b[1;33m.\u001b[0m\u001b[0mcolumns\u001b[0m\u001b[1;33m:\u001b[0m\u001b[1;33m\u001b[0m\u001b[1;33m\u001b[0m\u001b[0m\n\u001b[0;32m      2\u001b[0m     raise ValueError(\n\u001b[1;32m----> 3\u001b[1;33m         \u001b[1;34m\"For grouped cv, the cross validation is grouped on building_id. \"\u001b[0m\u001b[1;33m\u001b[0m\u001b[1;33m\u001b[0m\u001b[0m\n\u001b[0m\u001b[0;32m      4\u001b[0m                      \u001b[1;34m\"Therefore it must be excluded from the `drop` section in the config file \"\u001b[0m\u001b[1;33m\u001b[0m\u001b[1;33m\u001b[0m\u001b[0m\n\u001b[0;32m      5\u001b[0m                      \u001b[1;34m\"BEFORE using make data. \"\u001b[0m\u001b[1;33m\u001b[0m\u001b[1;33m\u001b[0m\u001b[0m\n",
      "\u001b[1;31mValueError\u001b[0m: For grouped cv, the cross validation is grouped on building_id. Therefore it must be excluded from the `drop` section in the config file BEFORE using make data. Note that the building_id is still not included in the model, it is needed for specifying the folds only and will be dropped afterwards."
     ]
    }
   ],
   "source": [
    "if not 'building_id2' in train_df.columns:\n",
    "    raise ValueError(\n",
    "        \"For grouped cv, the cross validation is grouped on building_id. \"\n",
    "                     \"Therefore it must be excluded from the `drop` section in the config file \"\n",
    "                     \"BEFORE using make data. \"\n",
    "                     \"Note that the building_id is still not included in the model, it is needed for specifying the folds only and will be dropped afterwards.\")"
   ]
  }
 ],
 "metadata": {
  "kernelspec": {
   "display_name": "Python 3",
   "language": "python",
   "name": "python3"
  },
  "language_info": {
   "codemirror_mode": {
    "name": "ipython",
    "version": 3
   },
   "file_extension": ".py",
   "mimetype": "text/x-python",
   "name": "python",
   "nbconvert_exporter": "python",
   "pygments_lexer": "ipython3",
   "version": "3.7.5"
  }
 },
 "nbformat": 4,
 "nbformat_minor": 2
}
