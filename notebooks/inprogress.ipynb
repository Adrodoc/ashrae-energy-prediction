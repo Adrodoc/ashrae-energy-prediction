{
 "cells": [
  {
   "cell_type": "code",
   "execution_count": 8,
   "metadata": {},
   "outputs": [],
   "source": [
    "import pandas as pd\n",
    "import numpy as np\n",
    "from sklearn.model_selection import GroupKFold"
   ]
  },
  {
   "cell_type": "code",
   "execution_count": 2,
   "metadata": {},
   "outputs": [],
   "source": [
    "# train has meter readings, which are obviously lacking in test set\n",
    "train_df = pd.read_pickle(\"../data/processed/train_data.pkl\")\n",
    "test_df = pd.read_pickle(\"../data/processed/test_data.pkl\")"
   ]
  },
  {
   "cell_type": "code",
   "execution_count": 3,
   "metadata": {},
   "outputs": [
    {
     "data": {
      "text/html": [
       "<div>\n",
       "<style scoped>\n",
       "    .dataframe tbody tr th:only-of-type {\n",
       "        vertical-align: middle;\n",
       "    }\n",
       "\n",
       "    .dataframe tbody tr th {\n",
       "        vertical-align: top;\n",
       "    }\n",
       "\n",
       "    .dataframe thead th {\n",
       "        text-align: right;\n",
       "    }\n",
       "</style>\n",
       "<table border=\"1\" class=\"dataframe\">\n",
       "  <thead>\n",
       "    <tr style=\"text-align: right;\">\n",
       "      <th></th>\n",
       "      <th>building_id</th>\n",
       "      <th>meter</th>\n",
       "      <th>meter_reading</th>\n",
       "      <th>site_id</th>\n",
       "      <th>primary_use</th>\n",
       "      <th>square_feet</th>\n",
       "      <th>year_built</th>\n",
       "      <th>floor_count</th>\n",
       "      <th>air_temperature</th>\n",
       "      <th>cloud_coverage</th>\n",
       "      <th>...</th>\n",
       "      <th>weekday</th>\n",
       "      <th>area_per_floor</th>\n",
       "      <th>outlier_square_feet</th>\n",
       "      <th>outlier_area_per_floor</th>\n",
       "      <th>air_temperature_6_lag</th>\n",
       "      <th>air_temperature_24_lag</th>\n",
       "      <th>dew_temperature_6_lag</th>\n",
       "      <th>dew_temperature_24_lag</th>\n",
       "      <th>cloud_coverage_6_lag</th>\n",
       "      <th>cloud_coverage_24_lag</th>\n",
       "    </tr>\n",
       "  </thead>\n",
       "  <tbody>\n",
       "    <tr>\n",
       "      <th>0</th>\n",
       "      <td>0</td>\n",
       "      <td>0</td>\n",
       "      <td>0.000000</td>\n",
       "      <td>0</td>\n",
       "      <td>0</td>\n",
       "      <td>8.913550</td>\n",
       "      <td>11.0</td>\n",
       "      <td>NaN</td>\n",
       "      <td>19.406250</td>\n",
       "      <td>3.162209</td>\n",
       "      <td>...</td>\n",
       "      <td>4</td>\n",
       "      <td>NaN</td>\n",
       "      <td>False</td>\n",
       "      <td>False</td>\n",
       "      <td>NaN</td>\n",
       "      <td>NaN</td>\n",
       "      <td>NaN</td>\n",
       "      <td>NaN</td>\n",
       "      <td>NaN</td>\n",
       "      <td>NaN</td>\n",
       "    </tr>\n",
       "    <tr>\n",
       "      <th>1</th>\n",
       "      <td>1142</td>\n",
       "      <td>1</td>\n",
       "      <td>0.000000</td>\n",
       "      <td>13</td>\n",
       "      <td>6</td>\n",
       "      <td>11.549431</td>\n",
       "      <td>NaN</td>\n",
       "      <td>NaN</td>\n",
       "      <td>-7.199219</td>\n",
       "      <td>8.000000</td>\n",
       "      <td>...</td>\n",
       "      <td>4</td>\n",
       "      <td>NaN</td>\n",
       "      <td>False</td>\n",
       "      <td>False</td>\n",
       "      <td>16.768229</td>\n",
       "      <td>18.847656</td>\n",
       "      <td>11.118490</td>\n",
       "      <td>10.296224</td>\n",
       "      <td>3.326116</td>\n",
       "      <td>3.221908</td>\n",
       "    </tr>\n",
       "    <tr>\n",
       "      <th>2</th>\n",
       "      <td>1142</td>\n",
       "      <td>0</td>\n",
       "      <td>48.000000</td>\n",
       "      <td>13</td>\n",
       "      <td>6</td>\n",
       "      <td>11.549431</td>\n",
       "      <td>NaN</td>\n",
       "      <td>NaN</td>\n",
       "      <td>-7.199219</td>\n",
       "      <td>8.000000</td>\n",
       "      <td>...</td>\n",
       "      <td>4</td>\n",
       "      <td>NaN</td>\n",
       "      <td>False</td>\n",
       "      <td>False</td>\n",
       "      <td>17.519531</td>\n",
       "      <td>18.801758</td>\n",
       "      <td>11.302083</td>\n",
       "      <td>10.154460</td>\n",
       "      <td>3.072498</td>\n",
       "      <td>3.138575</td>\n",
       "    </tr>\n",
       "    <tr>\n",
       "      <th>3</th>\n",
       "      <td>1141</td>\n",
       "      <td>0</td>\n",
       "      <td>21.000000</td>\n",
       "      <td>13</td>\n",
       "      <td>8</td>\n",
       "      <td>9.951611</td>\n",
       "      <td>NaN</td>\n",
       "      <td>NaN</td>\n",
       "      <td>-7.199219</td>\n",
       "      <td>8.000000</td>\n",
       "      <td>...</td>\n",
       "      <td>4</td>\n",
       "      <td>NaN</td>\n",
       "      <td>False</td>\n",
       "      <td>False</td>\n",
       "      <td>18.153646</td>\n",
       "      <td>18.660156</td>\n",
       "      <td>11.402344</td>\n",
       "      <td>9.991862</td>\n",
       "      <td>2.856456</td>\n",
       "      <td>2.971908</td>\n",
       "    </tr>\n",
       "    <tr>\n",
       "      <th>4</th>\n",
       "      <td>1140</td>\n",
       "      <td>2</td>\n",
       "      <td>6609.379883</td>\n",
       "      <td>13</td>\n",
       "      <td>0</td>\n",
       "      <td>11.960703</td>\n",
       "      <td>NaN</td>\n",
       "      <td>NaN</td>\n",
       "      <td>-7.199219</td>\n",
       "      <td>8.000000</td>\n",
       "      <td>...</td>\n",
       "      <td>4</td>\n",
       "      <td>NaN</td>\n",
       "      <td>False</td>\n",
       "      <td>False</td>\n",
       "      <td>18.703125</td>\n",
       "      <td>18.518229</td>\n",
       "      <td>11.302083</td>\n",
       "      <td>9.783366</td>\n",
       "      <td>2.856456</td>\n",
       "      <td>2.721908</td>\n",
       "    </tr>\n",
       "  </tbody>\n",
       "</table>\n",
       "<p>5 rows × 26 columns</p>\n",
       "</div>"
      ],
      "text/plain": [
       "  building_id meter  meter_reading site_id primary_use  square_feet  \\\n",
       "0           0     0       0.000000       0           0     8.913550   \n",
       "1        1142     1       0.000000      13           6    11.549431   \n",
       "2        1142     0      48.000000      13           6    11.549431   \n",
       "3        1141     0      21.000000      13           8     9.951611   \n",
       "4        1140     2    6609.379883      13           0    11.960703   \n",
       "\n",
       "   year_built  floor_count  air_temperature  cloud_coverage  ...  weekday  \\\n",
       "0        11.0          NaN        19.406250        3.162209  ...        4   \n",
       "1         NaN          NaN        -7.199219        8.000000  ...        4   \n",
       "2         NaN          NaN        -7.199219        8.000000  ...        4   \n",
       "3         NaN          NaN        -7.199219        8.000000  ...        4   \n",
       "4         NaN          NaN        -7.199219        8.000000  ...        4   \n",
       "\n",
       "   area_per_floor  outlier_square_feet  outlier_area_per_floor  \\\n",
       "0             NaN                False                   False   \n",
       "1             NaN                False                   False   \n",
       "2             NaN                False                   False   \n",
       "3             NaN                False                   False   \n",
       "4             NaN                False                   False   \n",
       "\n",
       "   air_temperature_6_lag air_temperature_24_lag dew_temperature_6_lag  \\\n",
       "0                    NaN                    NaN                   NaN   \n",
       "1              16.768229              18.847656             11.118490   \n",
       "2              17.519531              18.801758             11.302083   \n",
       "3              18.153646              18.660156             11.402344   \n",
       "4              18.703125              18.518229             11.302083   \n",
       "\n",
       "   dew_temperature_24_lag  cloud_coverage_6_lag  cloud_coverage_24_lag  \n",
       "0                     NaN                   NaN                    NaN  \n",
       "1               10.296224              3.326116               3.221908  \n",
       "2               10.154460              3.072498               3.138575  \n",
       "3                9.991862              2.856456               2.971908  \n",
       "4                9.783366              2.856456               2.721908  \n",
       "\n",
       "[5 rows x 26 columns]"
      ]
     },
     "execution_count": 3,
     "metadata": {},
     "output_type": "execute_result"
    }
   ],
   "source": [
    "train_df.head()"
   ]
  },
  {
   "cell_type": "code",
   "execution_count": 14,
   "metadata": {},
   "outputs": [
    {
     "data": {
      "text/plain": [
       "(19229841, 26)"
      ]
     },
     "execution_count": 14,
     "metadata": {},
     "output_type": "execute_result"
    }
   ],
   "source": [
    "train_df.shape"
   ]
  },
  {
   "cell_type": "code",
   "execution_count": 24,
   "metadata": {},
   "outputs": [
    {
     "data": {
      "text/plain": [
       "Index(['building_id', 'meter', 'meter_reading', 'site_id', 'primary_use',\n",
       "       'square_feet', 'year_built', 'floor_count', 'air_temperature',\n",
       "       'cloud_coverage', 'dew_temperature', 'precip_depth_1_hr',\n",
       "       'relative_humidity', 'air_temp_f', 'feels_like_temp', 'hour', 'weekday',\n",
       "       'area_per_floor', 'outlier_square_feet', 'outlier_area_per_floor',\n",
       "       'air_temperature_6_lag', 'air_temperature_24_lag',\n",
       "       'dew_temperature_6_lag', 'dew_temperature_24_lag',\n",
       "       'cloud_coverage_6_lag', 'cloud_coverage_24_lag'],\n",
       "      dtype='object')"
      ]
     },
     "execution_count": 24,
     "metadata": {},
     "output_type": "execute_result"
    }
   ],
   "source": [
    "train_df.columns"
   ]
  },
  {
   "cell_type": "code",
   "execution_count": 4,
   "metadata": {},
   "outputs": [
    {
     "data": {
      "text/html": [
       "<div>\n",
       "<style scoped>\n",
       "    .dataframe tbody tr th:only-of-type {\n",
       "        vertical-align: middle;\n",
       "    }\n",
       "\n",
       "    .dataframe tbody tr th {\n",
       "        vertical-align: top;\n",
       "    }\n",
       "\n",
       "    .dataframe thead th {\n",
       "        text-align: right;\n",
       "    }\n",
       "</style>\n",
       "<table border=\"1\" class=\"dataframe\">\n",
       "  <thead>\n",
       "    <tr style=\"text-align: right;\">\n",
       "      <th></th>\n",
       "      <th>row_id</th>\n",
       "      <th>building_id</th>\n",
       "      <th>meter</th>\n",
       "      <th>site_id</th>\n",
       "      <th>primary_use</th>\n",
       "      <th>square_feet</th>\n",
       "      <th>year_built</th>\n",
       "      <th>floor_count</th>\n",
       "      <th>air_temperature</th>\n",
       "      <th>cloud_coverage</th>\n",
       "      <th>...</th>\n",
       "      <th>weekday</th>\n",
       "      <th>area_per_floor</th>\n",
       "      <th>outlier_square_feet</th>\n",
       "      <th>outlier_area_per_floor</th>\n",
       "      <th>air_temperature_6_lag</th>\n",
       "      <th>air_temperature_24_lag</th>\n",
       "      <th>dew_temperature_6_lag</th>\n",
       "      <th>dew_temperature_24_lag</th>\n",
       "      <th>cloud_coverage_6_lag</th>\n",
       "      <th>cloud_coverage_24_lag</th>\n",
       "    </tr>\n",
       "  </thead>\n",
       "  <tbody>\n",
       "    <tr>\n",
       "      <th>0</th>\n",
       "      <td>0</td>\n",
       "      <td>0</td>\n",
       "      <td>0</td>\n",
       "      <td>0</td>\n",
       "      <td>0</td>\n",
       "      <td>8.913550</td>\n",
       "      <td>11.0</td>\n",
       "      <td>NaN</td>\n",
       "      <td>15.601562</td>\n",
       "      <td>2.0</td>\n",
       "      <td>...</td>\n",
       "      <td>6</td>\n",
       "      <td>NaN</td>\n",
       "      <td>False</td>\n",
       "      <td>False</td>\n",
       "      <td>NaN</td>\n",
       "      <td>NaN</td>\n",
       "      <td>NaN</td>\n",
       "      <td>NaN</td>\n",
       "      <td>NaN</td>\n",
       "      <td>NaN</td>\n",
       "    </tr>\n",
       "    <tr>\n",
       "      <th>1</th>\n",
       "      <td>1</td>\n",
       "      <td>1</td>\n",
       "      <td>0</td>\n",
       "      <td>0</td>\n",
       "      <td>0</td>\n",
       "      <td>7.908387</td>\n",
       "      <td>15.0</td>\n",
       "      <td>NaN</td>\n",
       "      <td>15.601562</td>\n",
       "      <td>2.0</td>\n",
       "      <td>...</td>\n",
       "      <td>6</td>\n",
       "      <td>NaN</td>\n",
       "      <td>True</td>\n",
       "      <td>False</td>\n",
       "      <td>NaN</td>\n",
       "      <td>NaN</td>\n",
       "      <td>NaN</td>\n",
       "      <td>NaN</td>\n",
       "      <td>NaN</td>\n",
       "      <td>NaN</td>\n",
       "    </tr>\n",
       "    <tr>\n",
       "      <th>2</th>\n",
       "      <td>2</td>\n",
       "      <td>2</td>\n",
       "      <td>0</td>\n",
       "      <td>0</td>\n",
       "      <td>0</td>\n",
       "      <td>8.589700</td>\n",
       "      <td>28.0</td>\n",
       "      <td>NaN</td>\n",
       "      <td>15.601562</td>\n",
       "      <td>2.0</td>\n",
       "      <td>...</td>\n",
       "      <td>6</td>\n",
       "      <td>NaN</td>\n",
       "      <td>False</td>\n",
       "      <td>False</td>\n",
       "      <td>NaN</td>\n",
       "      <td>NaN</td>\n",
       "      <td>NaN</td>\n",
       "      <td>NaN</td>\n",
       "      <td>NaN</td>\n",
       "      <td>NaN</td>\n",
       "    </tr>\n",
       "    <tr>\n",
       "      <th>3</th>\n",
       "      <td>3</td>\n",
       "      <td>3</td>\n",
       "      <td>0</td>\n",
       "      <td>0</td>\n",
       "      <td>0</td>\n",
       "      <td>10.072597</td>\n",
       "      <td>17.0</td>\n",
       "      <td>NaN</td>\n",
       "      <td>15.601562</td>\n",
       "      <td>2.0</td>\n",
       "      <td>...</td>\n",
       "      <td>6</td>\n",
       "      <td>NaN</td>\n",
       "      <td>False</td>\n",
       "      <td>False</td>\n",
       "      <td>NaN</td>\n",
       "      <td>NaN</td>\n",
       "      <td>NaN</td>\n",
       "      <td>NaN</td>\n",
       "      <td>NaN</td>\n",
       "      <td>NaN</td>\n",
       "    </tr>\n",
       "    <tr>\n",
       "      <th>4</th>\n",
       "      <td>4</td>\n",
       "      <td>4</td>\n",
       "      <td>0</td>\n",
       "      <td>0</td>\n",
       "      <td>0</td>\n",
       "      <td>11.666565</td>\n",
       "      <td>44.0</td>\n",
       "      <td>NaN</td>\n",
       "      <td>15.601562</td>\n",
       "      <td>2.0</td>\n",
       "      <td>...</td>\n",
       "      <td>6</td>\n",
       "      <td>NaN</td>\n",
       "      <td>False</td>\n",
       "      <td>False</td>\n",
       "      <td>NaN</td>\n",
       "      <td>NaN</td>\n",
       "      <td>NaN</td>\n",
       "      <td>NaN</td>\n",
       "      <td>NaN</td>\n",
       "      <td>NaN</td>\n",
       "    </tr>\n",
       "  </tbody>\n",
       "</table>\n",
       "<p>5 rows × 26 columns</p>\n",
       "</div>"
      ],
      "text/plain": [
       "   row_id building_id meter site_id primary_use  square_feet  year_built  \\\n",
       "0       0           0     0       0           0     8.913550        11.0   \n",
       "1       1           1     0       0           0     7.908387        15.0   \n",
       "2       2           2     0       0           0     8.589700        28.0   \n",
       "3       3           3     0       0           0    10.072597        17.0   \n",
       "4       4           4     0       0           0    11.666565        44.0   \n",
       "\n",
       "   floor_count  air_temperature  cloud_coverage  ...  weekday  area_per_floor  \\\n",
       "0          NaN        15.601562             2.0  ...        6             NaN   \n",
       "1          NaN        15.601562             2.0  ...        6             NaN   \n",
       "2          NaN        15.601562             2.0  ...        6             NaN   \n",
       "3          NaN        15.601562             2.0  ...        6             NaN   \n",
       "4          NaN        15.601562             2.0  ...        6             NaN   \n",
       "\n",
       "   outlier_square_feet  outlier_area_per_floor  air_temperature_6_lag  \\\n",
       "0                False                   False                    NaN   \n",
       "1                 True                   False                    NaN   \n",
       "2                False                   False                    NaN   \n",
       "3                False                   False                    NaN   \n",
       "4                False                   False                    NaN   \n",
       "\n",
       "  air_temperature_24_lag dew_temperature_6_lag  dew_temperature_24_lag  \\\n",
       "0                    NaN                   NaN                     NaN   \n",
       "1                    NaN                   NaN                     NaN   \n",
       "2                    NaN                   NaN                     NaN   \n",
       "3                    NaN                   NaN                     NaN   \n",
       "4                    NaN                   NaN                     NaN   \n",
       "\n",
       "   cloud_coverage_6_lag  cloud_coverage_24_lag  \n",
       "0                   NaN                    NaN  \n",
       "1                   NaN                    NaN  \n",
       "2                   NaN                    NaN  \n",
       "3                   NaN                    NaN  \n",
       "4                   NaN                    NaN  \n",
       "\n",
       "[5 rows x 26 columns]"
      ]
     },
     "execution_count": 4,
     "metadata": {},
     "output_type": "execute_result"
    }
   ],
   "source": [
    "test_df.head()"
   ]
  },
  {
   "cell_type": "code",
   "execution_count": 17,
   "metadata": {},
   "outputs": [
    {
     "data": {
      "text/plain": [
       "(41697600, 26)"
      ]
     },
     "execution_count": 17,
     "metadata": {},
     "output_type": "execute_result"
    }
   ],
   "source": [
    "test_df.shape"
   ]
  },
  {
   "cell_type": "code",
   "execution_count": 23,
   "metadata": {},
   "outputs": [
    {
     "data": {
      "text/plain": [
       "Index(['row_id', 'building_id', 'meter', 'site_id', 'primary_use',\n",
       "       'square_feet', 'year_built', 'floor_count', 'air_temperature',\n",
       "       'cloud_coverage', 'dew_temperature', 'precip_depth_1_hr',\n",
       "       'relative_humidity', 'air_temp_f', 'feels_like_temp', 'hour', 'weekday',\n",
       "       'area_per_floor', 'outlier_square_feet', 'outlier_area_per_floor',\n",
       "       'air_temperature_6_lag', 'air_temperature_24_lag',\n",
       "       'dew_temperature_6_lag', 'dew_temperature_24_lag',\n",
       "       'cloud_coverage_6_lag', 'cloud_coverage_24_lag'],\n",
       "      dtype='object')"
      ]
     },
     "execution_count": 23,
     "metadata": {},
     "output_type": "execute_result"
    }
   ],
   "source": [
    "test_df.columns"
   ]
  },
  {
   "cell_type": "code",
   "execution_count": 6,
   "metadata": {},
   "outputs": [],
   "source": [
    "groups = train_df.building_id"
   ]
  },
  {
   "cell_type": "code",
   "execution_count": 28,
   "metadata": {},
   "outputs": [
    {
     "data": {
      "text/plain": [
       "2"
      ]
     },
     "execution_count": 28,
     "metadata": {},
     "output_type": "execute_result"
    }
   ],
   "source": [
    "group_kfold = GroupKFold(n_splits = 2)\n",
    "group_kfold.get_n_splits()"
   ]
  },
  {
   "cell_type": "code",
   "execution_count": 29,
   "metadata": {},
   "outputs": [
    {
     "data": {
      "text/plain": [
       "<generator object _BaseKFold.split at 0x000002115AD70048>"
      ]
     },
     "execution_count": 29,
     "metadata": {},
     "output_type": "execute_result"
    }
   ],
   "source": [
    "group_kfold.split(train_df, train_df[\"meter_reading\"])"
   ]
  },
  {
   "cell_type": "code",
   "execution_count": 31,
   "metadata": {},
   "outputs": [
    {
     "name": "stdout",
     "output_type": "stream",
     "text": [
      "TRAIN: [       1        2       11 ... 19229835 19229839 19229840] TEST [       0        3        4 ... 19229836 19229837 19229838]\n",
      "TRAIN: [       0        3        4 ... 19229836 19229837 19229838] TEST [       1        2       11 ... 19229835 19229839 19229840]\n"
     ]
    }
   ],
   "source": [
    "for train_index, test_index in group_kfold.split(train_df, train_df[\"meter_reading\"], groups):\n",
    "    print(\"TRAIN:\", train_index, \"TEST\", test_index)"
   ]
  }
 ],
 "metadata": {
  "kernelspec": {
   "display_name": "Python 3",
   "language": "python",
   "name": "python3"
  },
  "language_info": {
   "codemirror_mode": {
    "name": "ipython",
    "version": 3
   },
   "file_extension": ".py",
   "mimetype": "text/x-python",
   "name": "python",
   "nbconvert_exporter": "python",
   "pygments_lexer": "ipython3",
   "version": "3.7.5"
  }
 },
 "nbformat": 4,
 "nbformat_minor": 2
}
