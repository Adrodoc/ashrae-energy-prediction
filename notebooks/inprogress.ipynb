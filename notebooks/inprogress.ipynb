{
 "cells": [
  {
   "cell_type": "code",
   "execution_count": 1,
   "metadata": {},
   "outputs": [],
   "source": [
    "import pandas as pd\n",
    "import numpy as np\n",
    "from sklearn.model_selection import GroupKFold\n",
    "from sklearn.model_selection import KFold"
   ]
  },
  {
   "cell_type": "code",
   "execution_count": 2,
   "metadata": {},
   "outputs": [],
   "source": [
    "# train has meter readings, which are obviously lacking in test set\n",
    "train_df = pd.read_pickle(\"../data/processed/train_data.pkl\")\n",
    "#test_df = pd.read_pickle(\"../data/processed/test_data.pkl\")"
   ]
  },
  {
   "cell_type": "code",
   "execution_count": 3,
   "metadata": {},
   "outputs": [
    {
     "data": {
      "text/html": [
       "<div>\n",
       "<style scoped>\n",
       "    .dataframe tbody tr th:only-of-type {\n",
       "        vertical-align: middle;\n",
       "    }\n",
       "\n",
       "    .dataframe tbody tr th {\n",
       "        vertical-align: top;\n",
       "    }\n",
       "\n",
       "    .dataframe thead th {\n",
       "        text-align: right;\n",
       "    }\n",
       "</style>\n",
       "<table border=\"1\" class=\"dataframe\">\n",
       "  <thead>\n",
       "    <tr style=\"text-align: right;\">\n",
       "      <th></th>\n",
       "      <th>meter</th>\n",
       "      <th>meter_reading</th>\n",
       "      <th>primary_use</th>\n",
       "      <th>square_feet</th>\n",
       "      <th>year_built</th>\n",
       "      <th>floor_count</th>\n",
       "      <th>air_temperature</th>\n",
       "      <th>cloud_coverage</th>\n",
       "      <th>dew_temperature</th>\n",
       "      <th>precip_depth_1_hr</th>\n",
       "      <th>...</th>\n",
       "      <th>weekday</th>\n",
       "      <th>area_per_floor</th>\n",
       "      <th>outlier_square_feet</th>\n",
       "      <th>outlier_area_per_floor</th>\n",
       "      <th>air_temperature_6_lag</th>\n",
       "      <th>air_temperature_24_lag</th>\n",
       "      <th>dew_temperature_6_lag</th>\n",
       "      <th>dew_temperature_24_lag</th>\n",
       "      <th>cloud_coverage_6_lag</th>\n",
       "      <th>cloud_coverage_24_lag</th>\n",
       "    </tr>\n",
       "  </thead>\n",
       "  <tbody>\n",
       "    <tr>\n",
       "      <th>0</th>\n",
       "      <td>0</td>\n",
       "      <td>0.000000</td>\n",
       "      <td>0</td>\n",
       "      <td>8.913550</td>\n",
       "      <td>11.0</td>\n",
       "      <td>NaN</td>\n",
       "      <td>19.406250</td>\n",
       "      <td>NaN</td>\n",
       "      <td>19.406250</td>\n",
       "      <td>0.0</td>\n",
       "      <td>...</td>\n",
       "      <td>4</td>\n",
       "      <td>NaN</td>\n",
       "      <td>False</td>\n",
       "      <td>False</td>\n",
       "      <td>NaN</td>\n",
       "      <td>NaN</td>\n",
       "      <td>NaN</td>\n",
       "      <td>NaN</td>\n",
       "      <td>NaN</td>\n",
       "      <td>NaN</td>\n",
       "    </tr>\n",
       "    <tr>\n",
       "      <th>1</th>\n",
       "      <td>1</td>\n",
       "      <td>0.000000</td>\n",
       "      <td>6</td>\n",
       "      <td>11.549431</td>\n",
       "      <td>NaN</td>\n",
       "      <td>NaN</td>\n",
       "      <td>-7.199219</td>\n",
       "      <td>8.0</td>\n",
       "      <td>-10.601562</td>\n",
       "      <td>0.0</td>\n",
       "      <td>...</td>\n",
       "      <td>4</td>\n",
       "      <td>NaN</td>\n",
       "      <td>False</td>\n",
       "      <td>False</td>\n",
       "      <td>16.768229</td>\n",
       "      <td>18.847656</td>\n",
       "      <td>11.118490</td>\n",
       "      <td>10.296224</td>\n",
       "      <td>NaN</td>\n",
       "      <td>NaN</td>\n",
       "    </tr>\n",
       "    <tr>\n",
       "      <th>2</th>\n",
       "      <td>0</td>\n",
       "      <td>48.000000</td>\n",
       "      <td>6</td>\n",
       "      <td>11.549431</td>\n",
       "      <td>NaN</td>\n",
       "      <td>NaN</td>\n",
       "      <td>-7.199219</td>\n",
       "      <td>8.0</td>\n",
       "      <td>-10.601562</td>\n",
       "      <td>0.0</td>\n",
       "      <td>...</td>\n",
       "      <td>4</td>\n",
       "      <td>NaN</td>\n",
       "      <td>False</td>\n",
       "      <td>False</td>\n",
       "      <td>17.519531</td>\n",
       "      <td>18.801758</td>\n",
       "      <td>11.302083</td>\n",
       "      <td>10.154460</td>\n",
       "      <td>NaN</td>\n",
       "      <td>NaN</td>\n",
       "    </tr>\n",
       "    <tr>\n",
       "      <th>3</th>\n",
       "      <td>0</td>\n",
       "      <td>21.000000</td>\n",
       "      <td>8</td>\n",
       "      <td>9.951611</td>\n",
       "      <td>NaN</td>\n",
       "      <td>NaN</td>\n",
       "      <td>-7.199219</td>\n",
       "      <td>8.0</td>\n",
       "      <td>-10.601562</td>\n",
       "      <td>0.0</td>\n",
       "      <td>...</td>\n",
       "      <td>4</td>\n",
       "      <td>NaN</td>\n",
       "      <td>False</td>\n",
       "      <td>False</td>\n",
       "      <td>18.153646</td>\n",
       "      <td>18.660156</td>\n",
       "      <td>11.402344</td>\n",
       "      <td>9.991862</td>\n",
       "      <td>NaN</td>\n",
       "      <td>NaN</td>\n",
       "    </tr>\n",
       "    <tr>\n",
       "      <th>4</th>\n",
       "      <td>2</td>\n",
       "      <td>6609.379883</td>\n",
       "      <td>0</td>\n",
       "      <td>11.960703</td>\n",
       "      <td>NaN</td>\n",
       "      <td>NaN</td>\n",
       "      <td>-7.199219</td>\n",
       "      <td>8.0</td>\n",
       "      <td>-10.601562</td>\n",
       "      <td>0.0</td>\n",
       "      <td>...</td>\n",
       "      <td>4</td>\n",
       "      <td>NaN</td>\n",
       "      <td>False</td>\n",
       "      <td>False</td>\n",
       "      <td>18.703125</td>\n",
       "      <td>18.518229</td>\n",
       "      <td>11.302083</td>\n",
       "      <td>9.783366</td>\n",
       "      <td>NaN</td>\n",
       "      <td>NaN</td>\n",
       "    </tr>\n",
       "  </tbody>\n",
       "</table>\n",
       "<p>5 rows × 24 columns</p>\n",
       "</div>"
      ],
      "text/plain": [
       "  meter  meter_reading primary_use  square_feet  year_built  floor_count  \\\n",
       "0     0       0.000000           0     8.913550        11.0          NaN   \n",
       "1     1       0.000000           6    11.549431         NaN          NaN   \n",
       "2     0      48.000000           6    11.549431         NaN          NaN   \n",
       "3     0      21.000000           8     9.951611         NaN          NaN   \n",
       "4     2    6609.379883           0    11.960703         NaN          NaN   \n",
       "\n",
       "   air_temperature  cloud_coverage  dew_temperature  precip_depth_1_hr  ...  \\\n",
       "0        19.406250             NaN        19.406250                0.0  ...   \n",
       "1        -7.199219             8.0       -10.601562                0.0  ...   \n",
       "2        -7.199219             8.0       -10.601562                0.0  ...   \n",
       "3        -7.199219             8.0       -10.601562                0.0  ...   \n",
       "4        -7.199219             8.0       -10.601562                0.0  ...   \n",
       "\n",
       "   weekday  area_per_floor  outlier_square_feet outlier_area_per_floor  \\\n",
       "0        4             NaN                False                  False   \n",
       "1        4             NaN                False                  False   \n",
       "2        4             NaN                False                  False   \n",
       "3        4             NaN                False                  False   \n",
       "4        4             NaN                False                  False   \n",
       "\n",
       "  air_temperature_6_lag  air_temperature_24_lag  dew_temperature_6_lag  \\\n",
       "0                   NaN                     NaN                    NaN   \n",
       "1             16.768229               18.847656              11.118490   \n",
       "2             17.519531               18.801758              11.302083   \n",
       "3             18.153646               18.660156              11.402344   \n",
       "4             18.703125               18.518229              11.302083   \n",
       "\n",
       "   dew_temperature_24_lag  cloud_coverage_6_lag  cloud_coverage_24_lag  \n",
       "0                     NaN                   NaN                    NaN  \n",
       "1               10.296224                   NaN                    NaN  \n",
       "2               10.154460                   NaN                    NaN  \n",
       "3                9.991862                   NaN                    NaN  \n",
       "4                9.783366                   NaN                    NaN  \n",
       "\n",
       "[5 rows x 24 columns]"
      ]
     },
     "execution_count": 3,
     "metadata": {},
     "output_type": "execute_result"
    }
   ],
   "source": [
    "train_df.head()"
   ]
  },
  {
   "cell_type": "code",
   "execution_count": 4,
   "metadata": {},
   "outputs": [
    {
     "data": {
      "text/plain": [
       "(19229841, 24)"
      ]
     },
     "execution_count": 4,
     "metadata": {},
     "output_type": "execute_result"
    }
   ],
   "source": [
    "train_df.shape"
   ]
  },
  {
   "cell_type": "code",
   "execution_count": 5,
   "metadata": {},
   "outputs": [
    {
     "data": {
      "text/plain": [
       "Index(['meter', 'meter_reading', 'primary_use', 'square_feet', 'year_built',\n",
       "       'floor_count', 'air_temperature', 'cloud_coverage', 'dew_temperature',\n",
       "       'precip_depth_1_hr', 'relative_humidity', 'air_temp_f',\n",
       "       'feels_like_temp', 'hour', 'weekday', 'area_per_floor',\n",
       "       'outlier_square_feet', 'outlier_area_per_floor',\n",
       "       'air_temperature_6_lag', 'air_temperature_24_lag',\n",
       "       'dew_temperature_6_lag', 'dew_temperature_24_lag',\n",
       "       'cloud_coverage_6_lag', 'cloud_coverage_24_lag'],\n",
       "      dtype='object')"
      ]
     },
     "execution_count": 5,
     "metadata": {},
     "output_type": "execute_result"
    }
   ],
   "source": [
    "train_df.columns"
   ]
  },
  {
   "cell_type": "code",
   "execution_count": 6,
   "metadata": {},
   "outputs": [
    {
     "name": "stdout",
     "output_type": "stream",
     "text": [
      "Help on class GroupKFold in module sklearn.model_selection._split:\n",
      "\n",
      "class GroupKFold(_BaseKFold)\n",
      " |  GroupKFold(n_splits='warn')\n",
      " |  \n",
      " |  K-fold iterator variant with non-overlapping groups.\n",
      " |  \n",
      " |  The same group will not appear in two different folds (the number of\n",
      " |  distinct groups has to be at least equal to the number of folds).\n",
      " |  \n",
      " |  The folds are approximately balanced in the sense that the number of\n",
      " |  distinct groups is approximately the same in each fold.\n",
      " |  \n",
      " |  Parameters\n",
      " |  ----------\n",
      " |  n_splits : int, default=3\n",
      " |      Number of folds. Must be at least 2.\n",
      " |  \n",
      " |      .. versionchanged:: 0.20\n",
      " |          ``n_splits`` default value will change from 3 to 5 in v0.22.\n",
      " |  \n",
      " |  Examples\n",
      " |  --------\n",
      " |  >>> import numpy as np\n",
      " |  >>> from sklearn.model_selection import GroupKFold\n",
      " |  >>> X = np.array([[1, 2], [3, 4], [5, 6], [7, 8]])\n",
      " |  >>> y = np.array([1, 2, 3, 4])\n",
      " |  >>> groups = np.array([0, 0, 2, 2])\n",
      " |  >>> group_kfold = GroupKFold(n_splits=2)\n",
      " |  >>> group_kfold.get_n_splits(X, y, groups)\n",
      " |  2\n",
      " |  >>> print(group_kfold)\n",
      " |  GroupKFold(n_splits=2)\n",
      " |  >>> for train_index, test_index in group_kfold.split(X, y, groups):\n",
      " |  ...     print(\"TRAIN:\", train_index, \"TEST:\", test_index)\n",
      " |  ...     X_train, X_test = X[train_index], X[test_index]\n",
      " |  ...     y_train, y_test = y[train_index], y[test_index]\n",
      " |  ...     print(X_train, X_test, y_train, y_test)\n",
      " |  ...\n",
      " |  TRAIN: [0 1] TEST: [2 3]\n",
      " |  [[1 2]\n",
      " |   [3 4]] [[5 6]\n",
      " |   [7 8]] [1 2] [3 4]\n",
      " |  TRAIN: [2 3] TEST: [0 1]\n",
      " |  [[5 6]\n",
      " |   [7 8]] [[1 2]\n",
      " |   [3 4]] [3 4] [1 2]\n",
      " |  \n",
      " |  See also\n",
      " |  --------\n",
      " |  LeaveOneGroupOut\n",
      " |      For splitting the data according to explicit domain-specific\n",
      " |      stratification of the dataset.\n",
      " |  \n",
      " |  Method resolution order:\n",
      " |      GroupKFold\n",
      " |      _BaseKFold\n",
      " |      BaseCrossValidator\n",
      " |      builtins.object\n",
      " |  \n",
      " |  Methods defined here:\n",
      " |  \n",
      " |  __init__(self, n_splits='warn')\n",
      " |      Initialize self.  See help(type(self)) for accurate signature.\n",
      " |  \n",
      " |  split(self, X, y=None, groups=None)\n",
      " |      Generate indices to split data into training and test set.\n",
      " |      \n",
      " |      Parameters\n",
      " |      ----------\n",
      " |      X : array-like, shape (n_samples, n_features)\n",
      " |          Training data, where n_samples is the number of samples\n",
      " |          and n_features is the number of features.\n",
      " |      \n",
      " |      y : array-like, shape (n_samples,), optional\n",
      " |          The target variable for supervised learning problems.\n",
      " |      \n",
      " |      groups : array-like, with shape (n_samples,)\n",
      " |          Group labels for the samples used while splitting the dataset into\n",
      " |          train/test set.\n",
      " |      \n",
      " |      Yields\n",
      " |      ------\n",
      " |      train : ndarray\n",
      " |          The training set indices for that split.\n",
      " |      \n",
      " |      test : ndarray\n",
      " |          The testing set indices for that split.\n",
      " |  \n",
      " |  ----------------------------------------------------------------------\n",
      " |  Data and other attributes defined here:\n",
      " |  \n",
      " |  __abstractmethods__ = frozenset()\n",
      " |  \n",
      " |  ----------------------------------------------------------------------\n",
      " |  Methods inherited from _BaseKFold:\n",
      " |  \n",
      " |  get_n_splits(self, X=None, y=None, groups=None)\n",
      " |      Returns the number of splitting iterations in the cross-validator\n",
      " |      \n",
      " |      Parameters\n",
      " |      ----------\n",
      " |      X : object\n",
      " |          Always ignored, exists for compatibility.\n",
      " |      \n",
      " |      y : object\n",
      " |          Always ignored, exists for compatibility.\n",
      " |      \n",
      " |      groups : object\n",
      " |          Always ignored, exists for compatibility.\n",
      " |      \n",
      " |      Returns\n",
      " |      -------\n",
      " |      n_splits : int\n",
      " |          Returns the number of splitting iterations in the cross-validator.\n",
      " |  \n",
      " |  ----------------------------------------------------------------------\n",
      " |  Methods inherited from BaseCrossValidator:\n",
      " |  \n",
      " |  __repr__(self)\n",
      " |      Return repr(self).\n",
      " |  \n",
      " |  ----------------------------------------------------------------------\n",
      " |  Data descriptors inherited from BaseCrossValidator:\n",
      " |  \n",
      " |  __dict__\n",
      " |      dictionary for instance variables (if defined)\n",
      " |  \n",
      " |  __weakref__\n",
      " |      list of weak references to the object (if defined)\n",
      "\n"
     ]
    }
   ],
   "source": [
    "help(GroupKFold)"
   ]
  },
  {
   "cell_type": "code",
   "execution_count": 7,
   "metadata": {},
   "outputs": [
    {
     "data": {
      "text/plain": [
       "4"
      ]
     },
     "execution_count": 7,
     "metadata": {},
     "output_type": "execute_result"
    }
   ],
   "source": [
    "X = np.array([[1, 2], [3, 4], [5, 6], [7, 8]])\n",
    "y = np.array([2, 4, 6, 8])\n",
    "groups = np.array([1, 2, 3, 4])\n",
    "group_kfold = GroupKFold(n_splits=4)\n",
    "group_kfold.get_n_splits(X, y, groups)"
   ]
  },
  {
   "cell_type": "code",
   "execution_count": 15,
   "metadata": {},
   "outputs": [],
   "source": [
    "label = train_df.meter_reading\n",
    "test_df = train_df.drop(columns = ['meter_reading'])"
   ]
  },
  {
   "cell_type": "code",
   "execution_count": 16,
   "metadata": {},
   "outputs": [
    {
     "data": {
      "text/plain": [
       "Index(['meter', 'primary_use', 'square_feet', 'year_built', 'floor_count',\n",
       "       'air_temperature', 'cloud_coverage', 'dew_temperature',\n",
       "       'precip_depth_1_hr', 'relative_humidity', 'air_temp_f',\n",
       "       'feels_like_temp', 'hour', 'weekday', 'area_per_floor',\n",
       "       'outlier_square_feet', 'outlier_area_per_floor',\n",
       "       'air_temperature_6_lag', 'air_temperature_24_lag',\n",
       "       'dew_temperature_6_lag', 'dew_temperature_24_lag',\n",
       "       'cloud_coverage_6_lag', 'cloud_coverage_24_lag'],\n",
       "      dtype='object')"
      ]
     },
     "execution_count": 16,
     "metadata": {},
     "output_type": "execute_result"
    }
   ],
   "source": [
    "test_df.columns"
   ]
  },
  {
   "cell_type": "code",
   "execution_count": 17,
   "metadata": {},
   "outputs": [],
   "source": [
    "kfold = KFold(n_splits = 4, shuffle = False)"
   ]
  },
  {
   "cell_type": "code",
   "execution_count": 21,
   "metadata": {},
   "outputs": [
    {
     "name": "stdout",
     "output_type": "stream",
     "text": [
      "TRAIN: [ 4807461  4807462  4807463 ... 19229838 19229839 19229840] TEST [      0       1       2 ... 4807458 4807459 4807460]\n",
      "TRAIN: [       0        1        2 ... 19229838 19229839 19229840] TEST [4807461 4807462 4807463 ... 9614918 9614919 9614920]\n",
      "TRAIN: [       0        1        2 ... 19229838 19229839 19229840] TEST [ 9614921  9614922  9614923 ... 14422378 14422379 14422380]\n",
      "TRAIN: [       0        1        2 ... 14422378 14422379 14422380] TEST [14422381 14422382 14422383 ... 19229838 19229839 19229840]\n"
     ]
    }
   ],
   "source": [
    "for train_index, test_index in kfold.split(test_df, label):\n",
    "    print(\"TRAIN:\", train_index, \"TEST\", test_index)"
   ]
  },
  {
   "cell_type": "code",
   "execution_count": 10,
   "metadata": {},
   "outputs": [
    {
     "data": {
      "text/plain": [
       "0            0\n",
       "1            0\n",
       "2            0\n",
       "3            0\n",
       "4            0\n",
       "            ..\n",
       "19229836    23\n",
       "19229837    23\n",
       "19229838    23\n",
       "19229839    23\n",
       "19229840    23\n",
       "Name: hour, Length: 19229841, dtype: category\n",
       "Categories (24, int64): [0, 1, 2, 3, ..., 20, 21, 22, 23]"
      ]
     },
     "execution_count": 10,
     "metadata": {},
     "output_type": "execute_result"
    }
   ],
   "source": [
    "train_df.hour"
   ]
  },
  {
   "cell_type": "code",
   "execution_count": null,
   "metadata": {},
   "outputs": [],
   "source": []
  }
 ],
 "metadata": {
  "kernelspec": {
   "display_name": "Python 3",
   "language": "python",
   "name": "python3"
  },
  "language_info": {
   "codemirror_mode": {
    "name": "ipython",
    "version": 3
   },
   "file_extension": ".py",
   "mimetype": "text/x-python",
   "name": "python",
   "nbconvert_exporter": "python",
   "pygments_lexer": "ipython3",
   "version": "3.7.5"
  }
 },
 "nbformat": 4,
 "nbformat_minor": 2
}
